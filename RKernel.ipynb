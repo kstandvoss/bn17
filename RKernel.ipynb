{
 "cells": [
  {
   "cell_type": "markdown",
   "metadata": {},
   "source": [
    "# Inference on Bayesian Network"
   ]
  },
  {
   "cell_type": "markdown",
   "metadata": {},
   "source": [
    "## Load Data, Create DAG"
   ]
  },
  {
   "cell_type": "code",
   "execution_count": null,
   "metadata": {
    "scrolled": false
   },
   "outputs": [],
   "source": [
    "library(\"gRain\")\n",
    "library(\"Rgraphviz\")\n",
    "library(\"dagitty\")\n",
    "library(\"combinat\")\n",
    "\n",
    "options(warn=-1)\n",
    "# setwd(\"/Users/apple1/Dropbox/Uni/Nijmegen/WS17_18/BN\")\n",
    "#setwd(\"D:/RU/Sem1/Bayesian Networks/Project\")\n",
    "setwd(\"/Users/lisa/Documents/Uni/03.SemesterMaster/BN/bn17\")\n",
    "# setwd(\"C:/Users/Valentin/Uni/RU/Sem1/Bayesian Networks\")\n",
    "data <- read.table(header=T, sep=\",\", 'adult_cleaned.csv')\n",
    "\n",
    "\n",
    "our_network <- dag(~ race:native.country + education:race:sex + workclass:education + hours.per.week:workclass:occupation + occupation:education + marital.status:age + income:age:sex:occupation:hours.per.week)\n",
    "plot(our_network)\n",
    "head(data)\n",
    "\n",
    "data[data==\"?\"]<-NA\n",
    "data<-data[complete.cases(data),]"
   ]
  },
  {
   "cell_type": "markdown",
   "metadata": {},
   "source": [
    "## Find Independencies"
   ]
  },
  {
   "cell_type": "code",
   "execution_count": null,
   "metadata": {},
   "outputs": [],
   "source": [
    "g <- dagitty( \"dag{ native.country -> race -> education -> occupation -> hours.per.week -> income; occupation -> income; education -> workclass -> hours.per.week; sex -> education; sex -> income; age -> income; age -> marital.status}\" )\n",
    "independencies <- impliedConditionalIndependencies( g )\n",
    "print(independencies)"
   ]
  },
  {
   "cell_type": "markdown",
   "metadata": {},
   "source": [
    "## Test Independencies"
   ]
  },
  {
   "cell_type": "code",
   "execution_count": null,
   "metadata": {
    "scrolled": false
   },
   "outputs": [],
   "source": [
    "num_test <- 0\n",
    "num_failed <- 0\n",
    "all <- length(data[,1])\n",
    "sig_threshold <- 0.05\n",
    "# Loop through all found independencies\n",
    "for(i in 1:length(independencies)){\n",
    "    # Get variables and conditioning set\n",
    "    indp <- independencies[i]\n",
    "    xyz <- unlist(indp) \n",
    "    # If conditioning set is empty testing is easy\n",
    "    if(length(xyz)==2){\n",
    "        #Chi-square test rmsea correction to test for implied statistical independence\n",
    "        tst <- chisq.test(data[,xyz[1]], data[,xyz[2]])\n",
    "        res <- sqrt(max((tst$statistic - tst$parameter)/(( nrow(data) - 1)*tst$parameter),0))\n",
    "        #If result is larger than 0.05 we reject the null hypothesis of the variables being independent\n",
    "        if(res > sig_threshold){\n",
    "            print(paste('test: ', xyz[1], ' and ', xyz[2]))\n",
    "            print(res)\n",
    "            num_failed <- num_failed + 1\n",
    "        }\n",
    "        num_test <- num_test + 1\n",
    "    }\n",
    "    # If conditioning set is not empty testing is more involved\n",
    "    else{\n",
    "        failed <- 0\n",
    "        print(paste(c('test ', xyz[1], ' and ', xyz[2], 'given ', xyz[-(1:2)]), collapse=' '))\n",
    "        # We have to test for independence given all possible value combinations\n",
    "        # of the conditioning variables\n",
    "        strata <- list()\n",
    "        for(i in 1:length(xyz[-(1:2)])){\n",
    "                # Get values of variables sorted by frequency\n",
    "                strata[i] <- as.data.frame(sort(table(data[,xyz[2+i]]),decreasing=T))\n",
    "        }\n",
    "        # Get all possible combinations of values\n",
    "        comb_strata = expand.grid(strata)\n",
    "        visited <- 0\n",
    "        idx <- 1\n",
    "        # Test conditions until 80% of data was tested\n",
    "        while(visited<0.8*all){\n",
    "            # Get data given conditioning set\n",
    "            subdata <- data[interaction(data[,xyz[-(1:2)]]) == interaction(comb_strata[idx,]),]\n",
    "            x <- subdata[,xyz[1]]\n",
    "            y <- subdata[,xyz[2]]\n",
    "            # Only test if enough data (unique values) is available\n",
    "            if(length(unique(x)) < 2 || length(unique(y)) < 2){\n",
    "                break\n",
    "            }\n",
    "            tst <- chisq.test(x,y)\n",
    "            res <- sqrt(max((tst$statistic - tst$parameter)/(( nrow(subdata) - 1)*tst$parameter),0))\n",
    "            if(res > sig_threshold){\n",
    "                failed <- 1\n",
    "                print(paste(xyz[-(1:2)], ' = ', comb_strata[idx,]),max.levels=0)\n",
    "                print(res)\n",
    "            }\n",
    "            visited <- visited + nrow(subdata)\n",
    "            idx <- idx + 1\n",
    "            num_test <- num_test + 1\n",
    "        }\n",
    "        if(failed){\n",
    "                num_failed <- num_failed + 1\n",
    "        }\n",
    "    }\n",
    "}\n",
    "print(paste('Number of tests = ', num_test, collapse=''))\n",
    "print(paste('Number of failed tests = ', num_failed, collapse=''))\n"
   ]
  },
  {
   "cell_type": "markdown",
   "metadata": {},
   "source": [
    "## Inference"
   ]
  },
  {
   "cell_type": "code",
   "execution_count": null,
   "metadata": {
    "collapsed": true
   },
   "outputs": [],
   "source": [
    "## Load deleted rows\n",
    "del_data <- read.table(header=T, sep=\",\", 'adult_cleaned_deleted.csv')\n",
    "new_data <- read.table(header=T, sep=\",\", 'adult_cleaned_deleted.csv')"
   ]
  },
  {
   "cell_type": "code",
   "execution_count": null,
   "metadata": {
    "collapsed": true
   },
   "outputs": [],
   "source": [
    "# Create network object\n",
    "net1 <- compile( grain( our_network, data, smooth=1 ) )\n",
    "pp <- extractCPT( data, our_network, smooth=1)"
   ]
  },
  {
   "cell_type": "markdown",
   "metadata": {},
   "source": [
    "### Marginals"
   ]
  },
  {
   "cell_type": "code",
   "execution_count": null,
   "metadata": {},
   "outputs": [],
   "source": [
    "## No evidence income\n",
    "print('0: <=50k, 1: >50k')\n",
    "q1 <- querygrain(net1, nodes='income',type = \"marginal\", evidence = NULL, exclude = TRUE, normalize = TRUE, result = \"array\", details = 0)\n",
    "print('Inferred')\n",
    "print(q1)\n",
    "print('Frequencies')\n",
    "t <- table(data['income'])\n",
    "print(paste(t[[1]] / (t[[1]]+t[[2]]),t[[2]] / (t[[1]]+t[[2]]) , collapse=''))"
   ]
  },
  {
   "cell_type": "markdown",
   "metadata": {
    "collapsed": true
   },
   "source": [
    "### Evidences"
   ]
  },
  {
   "cell_type": "code",
   "execution_count": null,
   "metadata": {},
   "outputs": [],
   "source": [
    "## Given White, male\n",
    "net2 <- setEvidence(net1, c(\"sex\",\"race\"), c(\"0\", \"0\"))\n",
    "q2 <- querygrain(net2, nodes='income',type = \"marginal\")\n",
    "print(q2)"
   ]
  },
  {
   "cell_type": "code",
   "execution_count": null,
   "metadata": {},
   "outputs": [],
   "source": [
    "## Given Native country: US\n",
    "net3 <- setEvidence(net1, c(\"native.country\"), c(\"0\"))\n",
    "q3 <- querygrain(net3, nodes='income',type = \"marginal\")\n",
    "print(q3)"
   ]
  },
  {
   "cell_type": "code",
   "execution_count": null,
   "metadata": {},
   "outputs": [],
   "source": [
    "## Female query Education\n",
    "net4 <- setEvidence(net1, c(\"sex\"), c(\"1\"))\n",
    "q4 <- querygrain(net4, nodes='education',type = \"marginal\")\n",
    "print(q4)"
   ]
  },
  {
   "cell_type": "code",
   "execution_count": null,
   "metadata": {},
   "outputs": [],
   "source": [
    "## Male query Education\n",
    "net5 <- setEvidence(net1, c(\"sex\"), c(\"0\"))\n",
    "q5 <- querygrain(net5, nodes='education',type = \"marginal\")\n",
    "print(q5)"
   ]
  },
  {
   "cell_type": "markdown",
   "metadata": {},
   "source": [
    "### Missing values"
   ]
  },
  {
   "cell_type": "code",
   "execution_count": null,
   "metadata": {},
   "outputs": [],
   "source": [
    "head(del_data)"
   ]
  },
  {
   "cell_type": "code",
   "execution_count": null,
   "metadata": {
    "collapsed": true
   },
   "outputs": [],
   "source": [
    "net6 <- setEvidence(net1, c(\"age\",\"education\",\"marital.status\",\"race\",\"sex\",\"hours.per.week\",\"native.country\",\"income\"), c(\"4\", \"2\", \"0\", \"1\", \"0\", \"5\", \"1\", \"1\"))\n",
    "q6 <- querygrain(net6, nodes='workclass',type = \"marginal\")\n",
    "q7 <- querygrain(net6, nodes='occupation',type = \"marginal\")"
   ]
  },
  {
   "cell_type": "code",
   "execution_count": null,
   "metadata": {},
   "outputs": [],
   "source": [
    "print(q6)"
   ]
  },
  {
   "cell_type": "code",
   "execution_count": null,
   "metadata": {},
   "outputs": [],
   "source": [
    "print(q7)"
   ]
  },
  {
   "cell_type": "code",
   "execution_count": null,
   "metadata": {
    "collapsed": true,
    "scrolled": false
   },
   "outputs": [],
   "source": [
    "verbose <- FALSE\n",
    "var_names <- c('age','workclass','education','marital.status','occupation','race','sex','hours.per.week','native.country','income')\n",
    "for(i in 1:dim(del_data)[1]){\n",
    "# for(i in 1:3){\n",
    "    row <- del_data[i,]\n",
    "    given_names <- list()\n",
    "    given_vals <- list()\n",
    "    missing_names <- list()\n",
    "    missing_idx <- list()\n",
    "    g_idx <- 1\n",
    "    m_idx <- 1\n",
    "    for(j in 1:length(row)){\n",
    "        if(is.na(row[[j]])){\n",
    "            missing_names[[m_idx]] <- var_names[[j]]\n",
    "            missing_idx[[m_idx]] <- j\n",
    "            m_idx <- m_idx + 1\n",
    "        } else {\n",
    "            given_names[[g_idx]] <- var_names[[j]]\n",
    "            given_vals[[g_idx]] <- toString(row[[j]])\n",
    "            g_idx <- g_idx + 1\n",
    "        }\n",
    "    }\n",
    "    net_ev <- setEvidence(net1, unlist(given_names, use.names=FALSE), unlist(given_vals, use.names=FALSE))\n",
    "    for(j in 1:length(missing_names)){\n",
    "        q <- querygrain(net_ev, nodes=missing_names[[j]],type = \"marginal\")\n",
    "        if(verbose){\n",
    "            print(q)\n",
    "            print('Max at')\n",
    "            print(which.max(unlist(q, use.names=FALSE)))\n",
    "        }\n",
    "        new_data[i,missing_idx[[j]]] <- which.max(unlist(q, use.names=FALSE))\n",
    "    }\n",
    "    if(verbose){\n",
    "        print('-----')        \n",
    "    }\n",
    "}"
   ]
  },
  {
   "cell_type": "code",
   "execution_count": null,
   "metadata": {},
   "outputs": [],
   "source": [
    "head(new_data)"
   ]
  },
  {
   "cell_type": "code",
   "execution_count": null,
   "metadata": {},
   "outputs": [],
   "source": [
    "head(del_data)"
   ]
  },
  {
   "cell_type": "code",
   "execution_count": null,
   "metadata": {
    "collapsed": true
   },
   "outputs": [],
   "source": [
    "write.csv(new_data, file = \"adult_added_missing_vals.csv\")"
   ]
  },
  {
   "cell_type": "code",
   "execution_count": null,
   "metadata": {
    "collapsed": true
   },
   "outputs": [],
   "source": []
  },
  {
   "cell_type": "markdown",
   "metadata": {},
   "source": [
    "| | 0 | 1 | 2 | 3 | 4 | 5 | 6 | 7 |\n",
    "|:---|:---|:---|:---|:---|:---|:---|:---|:---|\n",
    "| **Income** | <=50K | >50K | | | | | | |\n",
    "| **Sex** | Male | Female | | | | | | |\n",
    "| **Native Country** | US | Other | | | | | | |\n",
    "| **Race** | White | Asian-Pac-Islander | Amer-Indian-Eskimo | Other | Black | | | |\n",
    "| **Occupation** | Exec-managerial | Craft-repair | Other-service | Prof-specialty | Armed-Forces | Sales | | |\n",
    "|  | Adm-clerical | Handlers-cleaners | Tech-support |  |  | | | |\n",
    "|  |  | Machine-op-inspct | Priv-house-serv |  |  | | | |\n",
    "|  |  | Farming-fishing | Protective-serv |  |  | | | |\n",
    "|  |  | Transport-moving | |  |  | | | |\n",
    "| **Hours per Week** | 0-15 |16-25 |26-35 | 35-45 | 46-55 |55-99 | | |\n",
    "| **Education** | Preschool | 9th | Bachelors | Master | Prof-school | Doctorate | | |\n",
    "|  | 1st-4th | 10th | Some-college |  | |  | | |\n",
    "|  | 5th-6th | 11th |  |  | |  | | |\n",
    "|  | 7th-8th | 12th |  |  | |  | | |\n",
    "|  |  | HS-grad |  |  | |  | | |\n",
    "|  |  | Assoc-acdm |  |  | |  | | |\n",
    "|  |  | Assoc-voc |  |  | |  | | |\n",
    "| **Workclass** | Private | Self-emp-not-inc |Self-emp-inc | Federal-gov | Local-gov |State-gov |Without-pay | Never-worked|\n",
    "| **Martial Status** | Married-civ-spouse | Divorced | Never-married | Separated | Widowed | Married-spouse-absent | Married-AF-spouse | |\n",
    "| **Age** | 0-20 | 21-30 | 31-40 | 41-50 | 51-60 | 61-70 | 71-80 | 81-90 |"
   ]
  },
  {
   "cell_type": "code",
   "execution_count": null,
   "metadata": {
    "collapsed": true
   },
   "outputs": [],
   "source": []
  }
 ],
 "metadata": {
  "kernelspec": {
   "display_name": "R",
   "language": "R",
   "name": "ir"
  },
  "language_info": {
   "codemirror_mode": "r",
   "file_extension": ".r",
   "mimetype": "text/x-r-source",
   "name": "R",
   "pygments_lexer": "r",
   "version": "3.4.2"
  }
 },
 "nbformat": 4,
 "nbformat_minor": 2
}
