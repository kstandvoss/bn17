{
 "cells": [
  {
   "cell_type": "code",
   "execution_count": 10,
   "metadata": {
    "collapsed": false,
    "deletable": true,
    "editable": true,
    "scrolled": true
   },
   "outputs": [
    {
     "data": {
      "text/html": [
       "<table>\n",
       "<thead><tr><th scope=col>age</th><th scope=col>workclass</th><th scope=col>education</th><th scope=col>education.num</th><th scope=col>marital.status</th><th scope=col>occupation</th><th scope=col>race</th><th scope=col>sex</th><th scope=col>hPerWeek</th><th scope=col>native.country</th><th scope=col>income</th></tr></thead>\n",
       "<tbody>\n",
       "\t<tr><td>2                                                          </td><td><span style=white-space:pre-wrap> State-gov       </span>  </td><td> Bachelors                                                 </td><td>13                                                         </td><td><span style=white-space:pre-wrap> Never-married     </span></td><td><span style=white-space:pre-wrap> Adm-clerical     </span> </td><td> White                                                     </td><td><span style=white-space:pre-wrap> Male  </span>            </td><td>3                                                          </td><td> United-States                                             </td><td> &lt;=50K                                                  </td></tr>\n",
       "\t<tr><td>3                                                         </td><td> Self-emp-not-inc                                         </td><td> Bachelors                                                </td><td>13                                                        </td><td> Married-civ-spouse                                       </td><td><span style=white-space:pre-wrap> Exec-managerial  </span></td><td> White                                                    </td><td><span style=white-space:pre-wrap> Male  </span>           </td><td>0                                                         </td><td> United-States                                            </td><td> &lt;=50K                                                 </td></tr>\n",
       "\t<tr><td>2                                                          </td><td><span style=white-space:pre-wrap> Private         </span>  </td><td><span style=white-space:pre-wrap> HS-grad  </span>         </td><td> 9                                                         </td><td><span style=white-space:pre-wrap> Divorced          </span></td><td> Handlers-cleaners                                         </td><td> White                                                     </td><td><span style=white-space:pre-wrap> Male  </span>            </td><td>3                                                          </td><td> United-States                                             </td><td> &lt;=50K                                                  </td></tr>\n",
       "\t<tr><td>4                                                        </td><td><span style=white-space:pre-wrap> Private         </span></td><td><span style=white-space:pre-wrap> 11th     </span>       </td><td> 7                                                       </td><td> Married-civ-spouse                                      </td><td> Handlers-cleaners                                       </td><td> Black                                                   </td><td><span style=white-space:pre-wrap> Male  </span>          </td><td>3                                                        </td><td> United-States                                           </td><td> &lt;=50K                                                </td></tr>\n",
       "\t<tr><td>1                                                         </td><td><span style=white-space:pre-wrap> Private         </span> </td><td> Bachelors                                                </td><td>13                                                        </td><td> Married-civ-spouse                                       </td><td><span style=white-space:pre-wrap> Prof-specialty   </span></td><td> Black                                                    </td><td> Female                                                   </td><td>3                                                         </td><td><span style=white-space:pre-wrap> Cuba         </span>    </td><td> &lt;=50K                                                 </td></tr>\n",
       "\t<tr><td>2                                                         </td><td><span style=white-space:pre-wrap> Private         </span> </td><td><span style=white-space:pre-wrap> Masters  </span>        </td><td>14                                                        </td><td> Married-civ-spouse                                       </td><td><span style=white-space:pre-wrap> Exec-managerial  </span></td><td> White                                                    </td><td> Female                                                   </td><td>3                                                         </td><td> United-States                                            </td><td> &lt;=50K                                                 </td></tr>\n",
       "</tbody>\n",
       "</table>\n"
      ],
      "text/latex": [
       "\\begin{tabular}{r|lllllllllll}\n",
       " age & workclass & education & education.num & marital.status & occupation & race & sex & hPerWeek & native.country & income\\\\\n",
       "\\hline\n",
       "\t 2                   &  State-gov          &  Bachelors          & 13                  &  Never-married      &  Adm-clerical       &  White              &  Male               & 3                   &  United-States      &  <=50K             \\\\\n",
       "\t 3                   &  Self-emp-not-inc   &  Bachelors          & 13                  &  Married-civ-spouse &  Exec-managerial    &  White              &  Male               & 0                   &  United-States      &  <=50K             \\\\\n",
       "\t 2                   &  Private            &  HS-grad            &  9                  &  Divorced           &  Handlers-cleaners  &  White              &  Male               & 3                   &  United-States      &  <=50K             \\\\\n",
       "\t 4                   &  Private            &  11th               &  7                  &  Married-civ-spouse &  Handlers-cleaners  &  Black              &  Male               & 3                   &  United-States      &  <=50K             \\\\\n",
       "\t 1                   &  Private            &  Bachelors          & 13                  &  Married-civ-spouse &  Prof-specialty     &  Black              &  Female             & 3                   &  Cuba               &  <=50K             \\\\\n",
       "\t 2                   &  Private            &  Masters            & 14                  &  Married-civ-spouse &  Exec-managerial    &  White              &  Female             & 3                   &  United-States      &  <=50K             \\\\\n",
       "\\end{tabular}\n"
      ],
      "text/markdown": [
       "\n",
       "age | workclass | education | education.num | marital.status | occupation | race | sex | hPerWeek | native.country | income | \n",
       "|---|---|---|---|---|---|\n",
       "| 2                   |  State-gov          |  Bachelors          | 13                  |  Never-married      |  Adm-clerical       |  White              |  Male               | 3                   |  United-States      |  <=50K              | \n",
       "| 3                   |  Self-emp-not-inc   |  Bachelors          | 13                  |  Married-civ-spouse |  Exec-managerial    |  White              |  Male               | 0                   |  United-States      |  <=50K              | \n",
       "| 2                   |  Private            |  HS-grad            |  9                  |  Divorced           |  Handlers-cleaners  |  White              |  Male               | 3                   |  United-States      |  <=50K              | \n",
       "| 4                   |  Private            |  11th               |  7                  |  Married-civ-spouse |  Handlers-cleaners  |  Black              |  Male               | 3                   |  United-States      |  <=50K              | \n",
       "| 1                   |  Private            |  Bachelors          | 13                  |  Married-civ-spouse |  Prof-specialty     |  Black              |  Female             | 3                   |  Cuba               |  <=50K              | \n",
       "| 2                   |  Private            |  Masters            | 14                  |  Married-civ-spouse |  Exec-managerial    |  White              |  Female             | 3                   |  United-States      |  <=50K              | \n",
       "\n",
       "\n"
      ],
      "text/plain": [
       "  age workclass         education  education.num marital.status     \n",
       "1 2    State-gov         Bachelors 13             Never-married     \n",
       "2 3    Self-emp-not-inc  Bachelors 13             Married-civ-spouse\n",
       "3 2    Private           HS-grad    9             Divorced          \n",
       "4 4    Private           11th       7             Married-civ-spouse\n",
       "5 1    Private           Bachelors 13             Married-civ-spouse\n",
       "6 2    Private           Masters   14             Married-civ-spouse\n",
       "  occupation         race   sex     hPerWeek native.country income\n",
       "1  Adm-clerical       White  Male   3         United-States  <=50K\n",
       "2  Exec-managerial    White  Male   0         United-States  <=50K\n",
       "3  Handlers-cleaners  White  Male   3         United-States  <=50K\n",
       "4  Handlers-cleaners  Black  Male   3         United-States  <=50K\n",
       "5  Prof-specialty     Black  Female 3         Cuba           <=50K\n",
       "6  Exec-managerial    White  Female 3         United-States  <=50K"
      ]
     },
     "metadata": {},
     "output_type": "display_data"
    },
    {
     "data": {
      "image/png": "[encoded data removed]",
      "text/plain": [
       "plot without title"
      ]
     },
     "metadata": {},
     "output_type": "display_data"
    }
   ],
   "source": [
    "library(\"gRain\")\n",
    "library(\"Rgraphviz\")\n",
    "library(\"dagitty\")\n",
    "\n",
    "setwd(\"/Users/apple1/Dropbox/Uni/Nijmegen/WS17_18/BN\")\n",
    "data <- read.table(header=T, sep=\",\", 'adult_cleaned.csv')\n",
    "\n",
    "\n",
    "our_network <- dag(~ race:native.country + education.num:race:sex + workclass:education.num + hPerWeek:workclass:occupation + occupation:education.num + marital.status:age + income:age:sex:occupation:hPerWeek)\n",
    "plot(our_network)\n",
    "head(data)\n",
    "\n",
    "data[data==\"?\"]<-NA\n",
    "data<-data[complete.cases(data),]"
   ]
  },
  {
   "cell_type": "code",
   "execution_count": 57,
   "metadata": {
    "collapsed": false,
    "deletable": true,
    "editable": true
   },
   "outputs": [],
   "source": [
    "pp <- extractCPT( data, our_network, smooth=1)"
   ]
  },
  {
   "cell_type": "code",
   "execution_count": 4,
   "metadata": {
    "collapsed": false,
    "deletable": true,
    "editable": true
   },
   "outputs": [],
   "source": [
    "g <- dagitty( \"dag{ native.country -> race -> education.num -> occupation -> hPerWeek -> income; occupation -> income; education.num -> workclass -> hPerWeek; sex -> education.num; sex -> income; age -> income; age -> marital.status}\" )"
   ]
  },
  {
   "cell_type": "code",
   "execution_count": 5,
   "metadata": {
    "collapsed": false,
    "deletable": true,
    "editable": true
   },
   "outputs": [],
   "source": [
    "independencies <- impliedConditionalIndependencies( g )"
   ]
  },
  {
   "cell_type": "code",
   "execution_count": 17,
   "metadata": {
    "collapsed": false,
    "deletable": true,
    "editable": true,
    "scrolled": true
   },
   "outputs": [
    {
     "name": "stdout",
     "output_type": "stream",
     "text": [
      "[1] \"test  age  and  education.num\"\n"
     ]
    },
    {
     "name": "stderr",
     "output_type": "stream",
     "text": [
      "Warning message in chisq.test(data[, xyz[1]], data[, xyz[2]]):\n",
      "“Chi-squared approximation may be incorrect”"
     ]
    },
    {
     "name": "stdout",
     "output_type": "stream",
     "text": [
      "[1] \"test  age  and  hPerWeek\"\n"
     ]
    },
    {
     "name": "stderr",
     "output_type": "stream",
     "text": [
      "Warning message in chisq.test(data[, xyz[1]], data[, xyz[2]]):\n",
      "“Chi-squared approximation may be incorrect”"
     ]
    },
    {
     "name": "stdout",
     "output_type": "stream",
     "text": [
      "[1] 0.0752891\n",
      "[1] \"test  age  and  native.country\"\n"
     ]
    },
    {
     "name": "stderr",
     "output_type": "stream",
     "text": [
      "Warning message in chisq.test(data[, xyz[1]], data[, xyz[2]]):\n",
      "“Chi-squared approximation may be incorrect”"
     ]
    },
    {
     "name": "stdout",
     "output_type": "stream",
     "text": [
      "[1] \"test  age  and  occupation\"\n"
     ]
    },
    {
     "name": "stderr",
     "output_type": "stream",
     "text": [
      "Warning message in chisq.test(data[, xyz[1]], data[, xyz[2]]):\n",
      "“Chi-squared approximation may be incorrect”"
     ]
    },
    {
     "name": "stdout",
     "output_type": "stream",
     "text": [
      "[1] \"test  age  and  race\"\n"
     ]
    },
    {
     "name": "stderr",
     "output_type": "stream",
     "text": [
      "Warning message in chisq.test(data[, xyz[1]], data[, xyz[2]]):\n",
      "“Chi-squared approximation may be incorrect”"
     ]
    },
    {
     "name": "stdout",
     "output_type": "stream",
     "text": [
      "[1] \"test  age  and  sex\"\n",
      "[1] \"test  age  and  workclass\"\n"
     ]
    },
    {
     "name": "stderr",
     "output_type": "stream",
     "text": [
      "Warning message in chisq.test(data[, xyz[1]], data[, xyz[2]]):\n",
      "“Chi-squared approximation may be incorrect”"
     ]
    },
    {
     "name": "stdout",
     "output_type": "stream",
     "text": [
      "[1] \"test  education.num  and  hPerWeek given  occupation\"\n",
      "[1]  Prof-specialty\n",
      "15 Levels:  Prof-specialty  Craft-repair  Exec-managerial ...  Armed-Forces\n"
     ]
    },
    {
     "name": "stderr",
     "output_type": "stream",
     "text": [
      "Warning message in chisq.test(x, y):\n",
      "“Chi-squared approximation may be incorrect”"
     ]
    },
    {
     "name": "stdout",
     "output_type": "stream",
     "text": [
      "[1]  Craft-repair\n",
      "15 Levels:  Prof-specialty  Craft-repair  Exec-managerial ...  Armed-Forces\n"
     ]
    },
    {
     "name": "stderr",
     "output_type": "stream",
     "text": [
      "Warning message in chisq.test(x, y):\n",
      "“Chi-squared approximation may be incorrect”"
     ]
    },
    {
     "name": "stdout",
     "output_type": "stream",
     "text": [
      "[1]  Exec-managerial\n",
      "15 Levels:  Prof-specialty  Craft-repair  Exec-managerial ...  Armed-Forces\n"
     ]
    },
    {
     "name": "stderr",
     "output_type": "stream",
     "text": [
      "Warning message in chisq.test(x, y):\n",
      "“Chi-squared approximation may be incorrect”"
     ]
    },
    {
     "name": "stdout",
     "output_type": "stream",
     "text": [
      "[1]  Adm-clerical\n",
      "15 Levels:  Prof-specialty  Craft-repair  Exec-managerial ...  Armed-Forces\n"
     ]
    },
    {
     "name": "stderr",
     "output_type": "stream",
     "text": [
      "Warning message in chisq.test(x, y):\n",
      "“Chi-squared approximation may be incorrect”"
     ]
    },
    {
     "name": "stdout",
     "output_type": "stream",
     "text": [
      "[1]  Sales\n",
      "15 Levels:  Prof-specialty  Craft-repair  Exec-managerial ...  Armed-Forces\n"
     ]
    },
    {
     "name": "stderr",
     "output_type": "stream",
     "text": [
      "Warning message in chisq.test(x, y):\n",
      "“Chi-squared approximation may be incorrect”"
     ]
    },
    {
     "name": "stdout",
     "output_type": "stream",
     "text": [
      "[1]  Other-service\n",
      "15 Levels:  Prof-specialty  Craft-repair  Exec-managerial ...  Armed-Forces\n"
     ]
    },
    {
     "name": "stderr",
     "output_type": "stream",
     "text": [
      "Warning message in chisq.test(x, y):\n",
      "“Chi-squared approximation may be incorrect”"
     ]
    },
    {
     "name": "stdout",
     "output_type": "stream",
     "text": [
      "[1]  Machine-op-inspct\n",
      "15 Levels:  Prof-specialty  Craft-repair  Exec-managerial ...  Armed-Forces\n"
     ]
    },
    {
     "name": "stderr",
     "output_type": "stream",
     "text": [
      "Warning message in chisq.test(x, y):\n",
      "“Chi-squared approximation may be incorrect”"
     ]
    },
    {
     "name": "stdout",
     "output_type": "stream",
     "text": [
      "[1]  ?\n",
      "15 Levels:  Prof-specialty  Craft-repair  Exec-managerial ...  Armed-Forces\n"
     ]
    },
    {
     "name": "stderr",
     "output_type": "stream",
     "text": [
      "Warning message in chisq.test(x, y):\n",
      "“Chi-squared approximation may be incorrect”"
     ]
    },
    {
     "name": "stdout",
     "output_type": "stream",
     "text": [
      "[1] \"test  education.num  and  income given  hPerWeek\"\n",
      "[1] 3\n",
      "Levels: 3 4 2 5 1 0\n",
      "[1] 0.08439493\n",
      "[1] 4\n",
      "Levels: 3 4 2 5 1 0\n"
     ]
    },
    {
     "name": "stderr",
     "output_type": "stream",
     "text": [
      "Warning message in chisq.test(x, y):\n",
      "“Chi-squared approximation may be incorrect”"
     ]
    },
    {
     "name": "stdout",
     "output_type": "stream",
     "text": [
      "[1] 0.09788568\n",
      "[1] 2\n",
      "Levels: 3 4 2 5 1 0\n"
     ]
    },
    {
     "name": "stderr",
     "output_type": "stream",
     "text": [
      "Warning message in chisq.test(x, y):\n",
      "“Chi-squared approximation may be incorrect”"
     ]
    },
    {
     "name": "stdout",
     "output_type": "stream",
     "text": [
      "[1] 0.1010534\n",
      "[1] 5\n",
      "Levels: 3 4 2 5 1 0\n"
     ]
    },
    {
     "name": "stderr",
     "output_type": "stream",
     "text": [
      "Warning message in chisq.test(x, y):\n",
      "“Chi-squared approximation may be incorrect”"
     ]
    },
    {
     "name": "stdout",
     "output_type": "stream",
     "text": [
      "[1] 0.09036378\n",
      "[1] \"test  education.num  and  income given  occupation\"\n",
      "[1]  Prof-specialty\n",
      "15 Levels:  Prof-specialty  Craft-repair  Exec-managerial ...  Armed-Forces\n"
     ]
    },
    {
     "name": "stderr",
     "output_type": "stream",
     "text": [
      "Warning message in chisq.test(x, y):\n",
      "“Chi-squared approximation may be incorrect”"
     ]
    },
    {
     "name": "stdout",
     "output_type": "stream",
     "text": [
      "[1] 0.08467288\n",
      "[1]  Craft-repair\n",
      "15 Levels:  Prof-specialty  Craft-repair  Exec-managerial ...  Armed-Forces\n"
     ]
    },
    {
     "name": "stderr",
     "output_type": "stream",
     "text": [
      "Warning message in chisq.test(x, y):\n",
      "“Chi-squared approximation may be incorrect”"
     ]
    },
    {
     "name": "stdout",
     "output_type": "stream",
     "text": [
      "[1]  Exec-managerial\n",
      "15 Levels:  Prof-specialty  Craft-repair  Exec-managerial ...  Armed-Forces\n"
     ]
    },
    {
     "name": "stderr",
     "output_type": "stream",
     "text": [
      "Warning message in chisq.test(x, y):\n",
      "“Chi-squared approximation may be incorrect”"
     ]
    },
    {
     "name": "stdout",
     "output_type": "stream",
     "text": [
      "[1] 0.08245568\n",
      "[1]  Adm-clerical\n",
      "15 Levels:  Prof-specialty  Craft-repair  Exec-managerial ...  Armed-Forces\n"
     ]
    },
    {
     "name": "stderr",
     "output_type": "stream",
     "text": [
      "Warning message in chisq.test(x, y):\n",
      "“Chi-squared approximation may be incorrect”"
     ]
    },
    {
     "name": "stdout",
     "output_type": "stream",
     "text": [
      "[1]  Sales\n",
      "15 Levels:  Prof-specialty  Craft-repair  Exec-managerial ...  Armed-Forces\n"
     ]
    },
    {
     "name": "stderr",
     "output_type": "stream",
     "text": [
      "Warning message in chisq.test(x, y):\n",
      "“Chi-squared approximation may be incorrect”"
     ]
    },
    {
     "name": "stdout",
     "output_type": "stream",
     "text": [
      "[1] 0.08547286\n",
      "[1]  Other-service\n",
      "15 Levels:  Prof-specialty  Craft-repair  Exec-managerial ...  Armed-Forces\n"
     ]
    },
    {
     "name": "stderr",
     "output_type": "stream",
     "text": [
      "Warning message in chisq.test(x, y):\n",
      "“Chi-squared approximation may be incorrect”"
     ]
    },
    {
     "name": "stdout",
     "output_type": "stream",
     "text": [
      "[1]  Machine-op-inspct\n",
      "15 Levels:  Prof-specialty  Craft-repair  Exec-managerial ...  Armed-Forces\n"
     ]
    },
    {
     "name": "stderr",
     "output_type": "stream",
     "text": [
      "Warning message in chisq.test(x, y):\n",
      "“Chi-squared approximation may be incorrect”"
     ]
    },
    {
     "name": "stdout",
     "output_type": "stream",
     "text": [
      "[1]  ?\n",
      "15 Levels:  Prof-specialty  Craft-repair  Exec-managerial ...  Armed-Forces\n"
     ]
    },
    {
     "name": "stderr",
     "output_type": "stream",
     "text": [
      "Warning message in chisq.test(x, y):\n",
      "“Chi-squared approximation may be incorrect”"
     ]
    },
    {
     "name": "stdout",
     "output_type": "stream",
     "text": [
      "[1] 0.08630256\n",
      "[1] \"test  education.num  and  marital.status\"\n"
     ]
    },
    {
     "name": "stderr",
     "output_type": "stream",
     "text": [
      "Warning message in chisq.test(data[, xyz[1]], data[, xyz[2]]):\n",
      "“Chi-squared approximation may be incorrect”"
     ]
    },
    {
     "name": "stdout",
     "output_type": "stream",
     "text": [
      "[1] \"test  education.num  and  native.country given  race\"\n",
      "[1]  White\n",
      "Levels:  White  Black  Asian-Pac-Islander  Amer-Indian-Eskimo  Other\n"
     ]
    },
    {
     "name": "stderr",
     "output_type": "stream",
     "text": [
      "Warning message in chisq.test(x, y):\n",
      "“Chi-squared approximation may be incorrect”"
     ]
    },
    {
     "name": "stdout",
     "output_type": "stream",
     "text": [
      "[1] \"test  hPerWeek  and  marital.status\"\n"
     ]
    },
    {
     "name": "stderr",
     "output_type": "stream",
     "text": [
      "Warning message in chisq.test(data[, xyz[1]], data[, xyz[2]]):\n",
      "“Chi-squared approximation may be incorrect”"
     ]
    },
    {
     "name": "stdout",
     "output_type": "stream",
     "text": [
      "[1] 0.05279332\n",
      "[1] \"test  hPerWeek  and  native.country given  race\"\n",
      "[1]  White\n",
      "Levels:  White  Black  Asian-Pac-Islander  Amer-Indian-Eskimo  Other\n"
     ]
    },
    {
     "name": "stderr",
     "output_type": "stream",
     "text": [
      "Warning message in chisq.test(x, y):\n",
      "“Chi-squared approximation may be incorrect”"
     ]
    },
    {
     "name": "stdout",
     "output_type": "stream",
     "text": [
      "[1] \"test  hPerWeek  and  native.country given  education.num\"\n",
      "[1] 9\n",
      "Levels: 9 10 13 14 11 7 12 6 4 15 5 8 16 3 2 1\n"
     ]
    },
    {
     "name": "stderr",
     "output_type": "stream",
     "text": [
      "Warning message in chisq.test(x, y):\n",
      "“Chi-squared approximation may be incorrect”"
     ]
    },
    {
     "name": "stdout",
     "output_type": "stream",
     "text": [
      "[1] 10\n",
      "Levels: 9 10 13 14 11 7 12 6 4 15 5 8 16 3 2 1\n"
     ]
    },
    {
     "name": "stderr",
     "output_type": "stream",
     "text": [
      "Warning message in chisq.test(x, y):\n",
      "“Chi-squared approximation may be incorrect”"
     ]
    },
    {
     "name": "stdout",
     "output_type": "stream",
     "text": [
      "[1] 13\n",
      "Levels: 9 10 13 14 11 7 12 6 4 15 5 8 16 3 2 1\n"
     ]
    },
    {
     "name": "stderr",
     "output_type": "stream",
     "text": [
      "Warning message in chisq.test(x, y):\n",
      "“Chi-squared approximation may be incorrect”"
     ]
    },
    {
     "name": "stdout",
     "output_type": "stream",
     "text": [
      "[1] 14\n",
      "Levels: 9 10 13 14 11 7 12 6 4 15 5 8 16 3 2 1\n"
     ]
    },
    {
     "name": "stderr",
     "output_type": "stream",
     "text": [
      "Warning message in chisq.test(x, y):\n",
      "“Chi-squared approximation may be incorrect”"
     ]
    },
    {
     "name": "stdout",
     "output_type": "stream",
     "text": [
      "[1] 11\n",
      "Levels: 9 10 13 14 11 7 12 6 4 15 5 8 16 3 2 1\n"
     ]
    },
    {
     "name": "stderr",
     "output_type": "stream",
     "text": [
      "Warning message in chisq.test(x, y):\n",
      "“Chi-squared approximation may be incorrect”"
     ]
    },
    {
     "name": "stdout",
     "output_type": "stream",
     "text": [
      "[1] \"test  hPerWeek  and  native.country given  occupation\"\n",
      "[1]  Prof-specialty\n",
      "15 Levels:  Prof-specialty  Craft-repair  Exec-managerial ...  Armed-Forces\n"
     ]
    },
    {
     "name": "stderr",
     "output_type": "stream",
     "text": [
      "Warning message in chisq.test(x, y):\n",
      "“Chi-squared approximation may be incorrect”"
     ]
    },
    {
     "name": "stdout",
     "output_type": "stream",
     "text": [
      "[1]  Craft-repair\n",
      "15 Levels:  Prof-specialty  Craft-repair  Exec-managerial ...  Armed-Forces\n"
     ]
    },
    {
     "name": "stderr",
     "output_type": "stream",
     "text": [
      "Warning message in chisq.test(x, y):\n",
      "“Chi-squared approximation may be incorrect”"
     ]
    },
    {
     "name": "stdout",
     "output_type": "stream",
     "text": [
      "[1]  Exec-managerial\n",
      "15 Levels:  Prof-specialty  Craft-repair  Exec-managerial ...  Armed-Forces\n"
     ]
    },
    {
     "name": "stderr",
     "output_type": "stream",
     "text": [
      "Warning message in chisq.test(x, y):\n",
      "“Chi-squared approximation may be incorrect”"
     ]
    },
    {
     "name": "stdout",
     "output_type": "stream",
     "text": [
      "[1]  Adm-clerical\n",
      "15 Levels:  Prof-specialty  Craft-repair  Exec-managerial ...  Armed-Forces\n"
     ]
    },
    {
     "name": "stderr",
     "output_type": "stream",
     "text": [
      "Warning message in chisq.test(x, y):\n",
      "“Chi-squared approximation may be incorrect”"
     ]
    },
    {
     "name": "stdout",
     "output_type": "stream",
     "text": [
      "[1]  Sales\n",
      "15 Levels:  Prof-specialty  Craft-repair  Exec-managerial ...  Armed-Forces\n"
     ]
    },
    {
     "name": "stderr",
     "output_type": "stream",
     "text": [
      "Warning message in chisq.test(x, y):\n",
      "“Chi-squared approximation may be incorrect”"
     ]
    },
    {
     "name": "stdout",
     "output_type": "stream",
     "text": [
      "[1]  Other-service\n",
      "15 Levels:  Prof-specialty  Craft-repair  Exec-managerial ...  Armed-Forces\n"
     ]
    },
    {
     "name": "stderr",
     "output_type": "stream",
     "text": [
      "Warning message in chisq.test(x, y):\n",
      "“Chi-squared approximation may be incorrect”"
     ]
    },
    {
     "name": "stdout",
     "output_type": "stream",
     "text": [
      "[1]  Machine-op-inspct\n",
      "15 Levels:  Prof-specialty  Craft-repair  Exec-managerial ...  Armed-Forces\n"
     ]
    },
    {
     "name": "stderr",
     "output_type": "stream",
     "text": [
      "Warning message in chisq.test(x, y):\n",
      "“Chi-squared approximation may be incorrect”"
     ]
    },
    {
     "name": "stdout",
     "output_type": "stream",
     "text": [
      "[1]  ?\n",
      "15 Levels:  Prof-specialty  Craft-repair  Exec-managerial ...  Armed-Forces\n"
     ]
    },
    {
     "name": "stderr",
     "output_type": "stream",
     "text": [
      "Warning message in chisq.test(x, y):\n",
      "“Chi-squared approximation may be incorrect”"
     ]
    },
    {
     "name": "stdout",
     "output_type": "stream",
     "text": [
      "[1] \"test  hPerWeek  and  race given  education.num\"\n",
      "[1] 9\n",
      "Levels: 9 10 13 14 11 7 12 6 4 15 5 8 16 3 2 1\n"
     ]
    },
    {
     "name": "stderr",
     "output_type": "stream",
     "text": [
      "Warning message in chisq.test(x, y):\n",
      "“Chi-squared approximation may be incorrect”"
     ]
    },
    {
     "name": "stdout",
     "output_type": "stream",
     "text": [
      "[1] 10\n",
      "Levels: 9 10 13 14 11 7 12 6 4 15 5 8 16 3 2 1\n"
     ]
    },
    {
     "name": "stderr",
     "output_type": "stream",
     "text": [
      "Warning message in chisq.test(x, y):\n",
      "“Chi-squared approximation may be incorrect”"
     ]
    },
    {
     "name": "stdout",
     "output_type": "stream",
     "text": [
      "[1] 13\n",
      "Levels: 9 10 13 14 11 7 12 6 4 15 5 8 16 3 2 1\n"
     ]
    },
    {
     "name": "stderr",
     "output_type": "stream",
     "text": [
      "Warning message in chisq.test(x, y):\n",
      "“Chi-squared approximation may be incorrect”"
     ]
    },
    {
     "name": "stdout",
     "output_type": "stream",
     "text": [
      "[1] 14\n",
      "Levels: 9 10 13 14 11 7 12 6 4 15 5 8 16 3 2 1\n"
     ]
    },
    {
     "name": "stderr",
     "output_type": "stream",
     "text": [
      "Warning message in chisq.test(x, y):\n",
      "“Chi-squared approximation may be incorrect”"
     ]
    },
    {
     "name": "stdout",
     "output_type": "stream",
     "text": [
      "[1] 11\n",
      "Levels: 9 10 13 14 11 7 12 6 4 15 5 8 16 3 2 1\n"
     ]
    },
    {
     "name": "stderr",
     "output_type": "stream",
     "text": [
      "Warning message in chisq.test(x, y):\n",
      "“Chi-squared approximation may be incorrect”"
     ]
    },
    {
     "name": "stdout",
     "output_type": "stream",
     "text": [
      "[1] \"test  hPerWeek  and  race given  occupation\"\n",
      "[1]  Prof-specialty\n",
      "15 Levels:  Prof-specialty  Craft-repair  Exec-managerial ...  Armed-Forces\n"
     ]
    },
    {
     "name": "stderr",
     "output_type": "stream",
     "text": [
      "Warning message in chisq.test(x, y):\n",
      "“Chi-squared approximation may be incorrect”"
     ]
    },
    {
     "name": "stdout",
     "output_type": "stream",
     "text": [
      "[1]  Craft-repair\n",
      "15 Levels:  Prof-specialty  Craft-repair  Exec-managerial ...  Armed-Forces\n"
     ]
    },
    {
     "name": "stderr",
     "output_type": "stream",
     "text": [
      "Warning message in chisq.test(x, y):\n",
      "“Chi-squared approximation may be incorrect”"
     ]
    },
    {
     "name": "stdout",
     "output_type": "stream",
     "text": [
      "[1]  Exec-managerial\n",
      "15 Levels:  Prof-specialty  Craft-repair  Exec-managerial ...  Armed-Forces\n"
     ]
    },
    {
     "name": "stderr",
     "output_type": "stream",
     "text": [
      "Warning message in chisq.test(x, y):\n",
      "“Chi-squared approximation may be incorrect”"
     ]
    },
    {
     "name": "stdout",
     "output_type": "stream",
     "text": [
      "[1]  Adm-clerical\n",
      "15 Levels:  Prof-specialty  Craft-repair  Exec-managerial ...  Armed-Forces\n"
     ]
    },
    {
     "name": "stderr",
     "output_type": "stream",
     "text": [
      "Warning message in chisq.test(x, y):\n",
      "“Chi-squared approximation may be incorrect”"
     ]
    },
    {
     "name": "stdout",
     "output_type": "stream",
     "text": [
      "[1]  Sales\n",
      "15 Levels:  Prof-specialty  Craft-repair  Exec-managerial ...  Armed-Forces\n"
     ]
    },
    {
     "name": "stderr",
     "output_type": "stream",
     "text": [
      "Warning message in chisq.test(x, y):\n",
      "“Chi-squared approximation may be incorrect”"
     ]
    },
    {
     "name": "stdout",
     "output_type": "stream",
     "text": [
      "[1]  Other-service\n",
      "15 Levels:  Prof-specialty  Craft-repair  Exec-managerial ...  Armed-Forces\n"
     ]
    },
    {
     "name": "stderr",
     "output_type": "stream",
     "text": [
      "Warning message in chisq.test(x, y):\n",
      "“Chi-squared approximation may be incorrect”"
     ]
    },
    {
     "name": "stdout",
     "output_type": "stream",
     "text": [
      "[1]  Machine-op-inspct\n",
      "15 Levels:  Prof-specialty  Craft-repair  Exec-managerial ...  Armed-Forces\n"
     ]
    },
    {
     "name": "stderr",
     "output_type": "stream",
     "text": [
      "Warning message in chisq.test(x, y):\n",
      "“Chi-squared approximation may be incorrect”"
     ]
    },
    {
     "name": "stdout",
     "output_type": "stream",
     "text": [
      "[1]  ?\n",
      "15 Levels:  Prof-specialty  Craft-repair  Exec-managerial ...  Armed-Forces\n"
     ]
    },
    {
     "name": "stderr",
     "output_type": "stream",
     "text": [
      "Warning message in chisq.test(x, y):\n",
      "“Chi-squared approximation may be incorrect”"
     ]
    },
    {
     "name": "stdout",
     "output_type": "stream",
     "text": [
      "[1] \"test  hPerWeek  and  sex given  education.num\"\n",
      "[1] 9\n",
      "Levels: 9 10 13 14 11 7 12 6 4 15 5 8 16 3 2 1\n",
      "[1] 0.1188153\n",
      "[1] 10\n",
      "Levels: 9 10 13 14 11 7 12 6 4 15 5 8 16 3 2 1\n",
      "[1] 0.124513\n",
      "[1] 13\n",
      "Levels: 9 10 13 14 11 7 12 6 4 15 5 8 16 3 2 1\n",
      "[1] 0.09090429\n",
      "[1] 14\n",
      "Levels: 9 10 13 14 11 7 12 6 4 15 5 8 16 3 2 1\n",
      "[1] 0.07851647\n",
      "[1] 11\n",
      "Levels: 9 10 13 14 11 7 12 6 4 15 5 8 16 3 2 1\n",
      "[1] 0.1307319\n",
      "[1] \"test  hPerWeek  and  sex given  occupation\"\n",
      "[1]  Prof-specialty\n",
      "15 Levels:  Prof-specialty  Craft-repair  Exec-managerial ...  Armed-Forces\n",
      "[1] 0.08603667\n",
      "[1]  Craft-repair\n",
      "15 Levels:  Prof-specialty  Craft-repair  Exec-managerial ...  Armed-Forces\n"
     ]
    },
    {
     "name": "stderr",
     "output_type": "stream",
     "text": [
      "Warning message in chisq.test(x, y):\n",
      "“Chi-squared approximation may be incorrect”"
     ]
    },
    {
     "name": "stdout",
     "output_type": "stream",
     "text": [
      "[1]  Exec-managerial\n",
      "15 Levels:  Prof-specialty  Craft-repair  Exec-managerial ...  Armed-Forces\n",
      "[1] 0.1013189\n",
      "[1]  Adm-clerical\n",
      "15 Levels:  Prof-specialty  Craft-repair  Exec-managerial ...  Armed-Forces\n",
      "[1] 0.05904712\n",
      "[1]  Sales\n",
      "15 Levels:  Prof-specialty  Craft-repair  Exec-managerial ...  Armed-Forces\n",
      "[1] 0.1712543\n",
      "[1]  Other-service\n",
      "15 Levels:  Prof-specialty  Craft-repair  Exec-managerial ...  Armed-Forces\n",
      "[1] 0.05970264\n",
      "[1]  Machine-op-inspct\n",
      "15 Levels:  Prof-specialty  Craft-repair  Exec-managerial ...  Armed-Forces\n",
      "[1] 0.06963644\n",
      "[1]  ?\n",
      "15 Levels:  Prof-specialty  Craft-repair  Exec-managerial ...  Armed-Forces\n",
      "[1] 0.07502985\n",
      "[1] \"test  income  and  marital.status given  age\"\n",
      "[1] 2\n",
      "Levels: 2 1 3 4 0 5 6 7\n"
     ]
    },
    {
     "name": "stderr",
     "output_type": "stream",
     "text": [
      "Warning message in chisq.test(x, y):\n",
      "“Chi-squared approximation may be incorrect”"
     ]
    },
    {
     "name": "stdout",
     "output_type": "stream",
     "text": [
      "[1] 0.1659319\n",
      "[1] 1\n",
      "Levels: 2 1 3 4 0 5 6 7\n"
     ]
    },
    {
     "name": "stderr",
     "output_type": "stream",
     "text": [
      "Warning message in chisq.test(x, y):\n",
      "“Chi-squared approximation may be incorrect”"
     ]
    },
    {
     "name": "stdout",
     "output_type": "stream",
     "text": [
      "[1] 0.143006\n",
      "[1] 3\n",
      "Levels: 2 1 3 4 0 5 6 7\n"
     ]
    },
    {
     "name": "stderr",
     "output_type": "stream",
     "text": [
      "Warning message in chisq.test(x, y):\n",
      "“Chi-squared approximation may be incorrect”"
     ]
    },
    {
     "name": "stdout",
     "output_type": "stream",
     "text": [
      "[1] 0.1736704\n",
      "[1] 4\n",
      "Levels: 2 1 3 4 0 5 6 7\n",
      "[1] 0.1650548\n",
      "[1] \"test  income  and  native.country given  race\"\n",
      "[1]  White\n",
      "Levels:  White  Black  Asian-Pac-Islander  Amer-Indian-Eskimo  Other\n"
     ]
    },
    {
     "name": "stderr",
     "output_type": "stream",
     "text": [
      "Warning message in chisq.test(x, y):\n",
      "“Chi-squared approximation may be incorrect”"
     ]
    },
    {
     "name": "stdout",
     "output_type": "stream",
     "text": [
      "[1] \"test  income  and  native.country given  education.num\"\n",
      "[1] 9\n",
      "Levels: 9 10 13 14 11 7 12 6 4 15 5 8 16 3 2 1\n"
     ]
    },
    {
     "name": "stderr",
     "output_type": "stream",
     "text": [
      "Warning message in chisq.test(x, y):\n",
      "“Chi-squared approximation may be incorrect”"
     ]
    },
    {
     "name": "stdout",
     "output_type": "stream",
     "text": [
      "[1] 10\n",
      "Levels: 9 10 13 14 11 7 12 6 4 15 5 8 16 3 2 1\n"
     ]
    },
    {
     "name": "stderr",
     "output_type": "stream",
     "text": [
      "Warning message in chisq.test(x, y):\n",
      "“Chi-squared approximation may be incorrect”"
     ]
    },
    {
     "name": "stdout",
     "output_type": "stream",
     "text": [
      "[1] 13\n",
      "Levels: 9 10 13 14 11 7 12 6 4 15 5 8 16 3 2 1\n"
     ]
    },
    {
     "name": "stderr",
     "output_type": "stream",
     "text": [
      "Warning message in chisq.test(x, y):\n",
      "“Chi-squared approximation may be incorrect”"
     ]
    },
    {
     "name": "stdout",
     "output_type": "stream",
     "text": [
      "[1] 14\n",
      "Levels: 9 10 13 14 11 7 12 6 4 15 5 8 16 3 2 1\n"
     ]
    },
    {
     "name": "stderr",
     "output_type": "stream",
     "text": [
      "Warning message in chisq.test(x, y):\n",
      "“Chi-squared approximation may be incorrect”"
     ]
    },
    {
     "name": "stdout",
     "output_type": "stream",
     "text": [
      "[1] 11\n",
      "Levels: 9 10 13 14 11 7 12 6 4 15 5 8 16 3 2 1\n"
     ]
    },
    {
     "name": "stderr",
     "output_type": "stream",
     "text": [
      "Warning message in chisq.test(x, y):\n",
      "“Chi-squared approximation may be incorrect”"
     ]
    },
    {
     "name": "stdout",
     "output_type": "stream",
     "text": [
      "[1] \"test  income  and  native.country given  occupation\"\n",
      "[1]  Prof-specialty\n",
      "15 Levels:  Prof-specialty  Craft-repair  Exec-managerial ...  Armed-Forces\n"
     ]
    },
    {
     "name": "stderr",
     "output_type": "stream",
     "text": [
      "Warning message in chisq.test(x, y):\n",
      "“Chi-squared approximation may be incorrect”"
     ]
    },
    {
     "name": "stdout",
     "output_type": "stream",
     "text": [
      "[1]  Craft-repair\n",
      "15 Levels:  Prof-specialty  Craft-repair  Exec-managerial ...  Armed-Forces\n"
     ]
    },
    {
     "name": "stderr",
     "output_type": "stream",
     "text": [
      "Warning message in chisq.test(x, y):\n",
      "“Chi-squared approximation may be incorrect”"
     ]
    },
    {
     "name": "stdout",
     "output_type": "stream",
     "text": [
      "[1]  Exec-managerial\n",
      "15 Levels:  Prof-specialty  Craft-repair  Exec-managerial ...  Armed-Forces\n"
     ]
    },
    {
     "name": "stderr",
     "output_type": "stream",
     "text": [
      "Warning message in chisq.test(x, y):\n",
      "“Chi-squared approximation may be incorrect”"
     ]
    },
    {
     "name": "stdout",
     "output_type": "stream",
     "text": [
      "[1]  Adm-clerical\n",
      "15 Levels:  Prof-specialty  Craft-repair  Exec-managerial ...  Armed-Forces\n"
     ]
    },
    {
     "name": "stderr",
     "output_type": "stream",
     "text": [
      "Warning message in chisq.test(x, y):\n",
      "“Chi-squared approximation may be incorrect”"
     ]
    },
    {
     "name": "stdout",
     "output_type": "stream",
     "text": [
      "[1]  Sales\n",
      "15 Levels:  Prof-specialty  Craft-repair  Exec-managerial ...  Armed-Forces\n"
     ]
    },
    {
     "name": "stderr",
     "output_type": "stream",
     "text": [
      "Warning message in chisq.test(x, y):\n",
      "“Chi-squared approximation may be incorrect”"
     ]
    },
    {
     "name": "stdout",
     "output_type": "stream",
     "text": [
      "[1]  Other-service\n",
      "15 Levels:  Prof-specialty  Craft-repair  Exec-managerial ...  Armed-Forces\n"
     ]
    },
    {
     "name": "stderr",
     "output_type": "stream",
     "text": [
      "Warning message in chisq.test(x, y):\n",
      "“Chi-squared approximation may be incorrect”"
     ]
    },
    {
     "name": "stdout",
     "output_type": "stream",
     "text": [
      "[1]  Machine-op-inspct\n",
      "15 Levels:  Prof-specialty  Craft-repair  Exec-managerial ...  Armed-Forces\n"
     ]
    },
    {
     "name": "stderr",
     "output_type": "stream",
     "text": [
      "Warning message in chisq.test(x, y):\n",
      "“Chi-squared approximation may be incorrect”"
     ]
    },
    {
     "name": "stdout",
     "output_type": "stream",
     "text": [
      "[1]  ?\n",
      "15 Levels:  Prof-specialty  Craft-repair  Exec-managerial ...  Armed-Forces\n"
     ]
    },
    {
     "name": "stderr",
     "output_type": "stream",
     "text": [
      "Warning message in chisq.test(x, y):\n",
      "“Chi-squared approximation may be incorrect”"
     ]
    },
    {
     "name": "stdout",
     "output_type": "stream",
     "text": [
      "[1] \"test  income  and  native.country given  hPerWeek\"\n",
      "[1] 3\n",
      "Levels: 3 4 2 5 1 0\n"
     ]
    },
    {
     "name": "stderr",
     "output_type": "stream",
     "text": [
      "Warning message in chisq.test(x, y):\n",
      "“Chi-squared approximation may be incorrect”"
     ]
    },
    {
     "name": "stdout",
     "output_type": "stream",
     "text": [
      "[1] 4\n",
      "Levels: 3 4 2 5 1 0\n"
     ]
    },
    {
     "name": "stderr",
     "output_type": "stream",
     "text": [
      "Warning message in chisq.test(x, y):\n",
      "“Chi-squared approximation may be incorrect”"
     ]
    },
    {
     "name": "stdout",
     "output_type": "stream",
     "text": [
      "[1] 2\n",
      "Levels: 3 4 2 5 1 0\n"
     ]
    },
    {
     "name": "stderr",
     "output_type": "stream",
     "text": [
      "Warning message in chisq.test(x, y):\n",
      "“Chi-squared approximation may be incorrect”"
     ]
    },
    {
     "name": "stdout",
     "output_type": "stream",
     "text": [
      "[1] 5\n",
      "Levels: 3 4 2 5 1 0\n"
     ]
    },
    {
     "name": "stderr",
     "output_type": "stream",
     "text": [
      "Warning message in chisq.test(x, y):\n",
      "“Chi-squared approximation may be incorrect”"
     ]
    },
    {
     "name": "stdout",
     "output_type": "stream",
     "text": [
      "[1] \"test  income  and  race given  education.num\"\n",
      "[1] 9\n",
      "Levels: 9 10 13 14 11 7 12 6 4 15 5 8 16 3 2 1\n",
      "[1] 10\n",
      "Levels: 9 10 13 14 11 7 12 6 4 15 5 8 16 3 2 1\n",
      "[1] 13\n",
      "Levels: 9 10 13 14 11 7 12 6 4 15 5 8 16 3 2 1\n",
      "[1] 14\n",
      "Levels: 9 10 13 14 11 7 12 6 4 15 5 8 16 3 2 1\n"
     ]
    },
    {
     "name": "stderr",
     "output_type": "stream",
     "text": [
      "Warning message in chisq.test(x, y):\n",
      "“Chi-squared approximation may be incorrect”"
     ]
    },
    {
     "name": "stdout",
     "output_type": "stream",
     "text": [
      "[1] 11\n",
      "Levels: 9 10 13 14 11 7 12 6 4 15 5 8 16 3 2 1\n"
     ]
    },
    {
     "name": "stderr",
     "output_type": "stream",
     "text": [
      "Warning message in chisq.test(x, y):\n",
      "“Chi-squared approximation may be incorrect”"
     ]
    },
    {
     "name": "stdout",
     "output_type": "stream",
     "text": [
      "[1] \"test  income  and  race given  occupation\"\n",
      "[1]  Prof-specialty\n",
      "15 Levels:  Prof-specialty  Craft-repair  Exec-managerial ...  Armed-Forces\n",
      "[1]  Craft-repair\n",
      "15 Levels:  Prof-specialty  Craft-repair  Exec-managerial ...  Armed-Forces\n",
      "[1]  Exec-managerial\n",
      "15 Levels:  Prof-specialty  Craft-repair  Exec-managerial ...  Armed-Forces\n",
      "[1]  Adm-clerical\n",
      "15 Levels:  Prof-specialty  Craft-repair  Exec-managerial ...  Armed-Forces\n"
     ]
    },
    {
     "name": "stderr",
     "output_type": "stream",
     "text": [
      "Warning message in chisq.test(x, y):\n",
      "“Chi-squared approximation may be incorrect”"
     ]
    },
    {
     "name": "stdout",
     "output_type": "stream",
     "text": [
      "[1]  Sales\n",
      "15 Levels:  Prof-specialty  Craft-repair  Exec-managerial ...  Armed-Forces\n",
      "[1]  Other-service\n",
      "15 Levels:  Prof-specialty  Craft-repair  Exec-managerial ...  Armed-Forces\n"
     ]
    },
    {
     "name": "stderr",
     "output_type": "stream",
     "text": [
      "Warning message in chisq.test(x, y):\n",
      "“Chi-squared approximation may be incorrect”"
     ]
    },
    {
     "name": "stdout",
     "output_type": "stream",
     "text": [
      "[1]  Machine-op-inspct\n",
      "15 Levels:  Prof-specialty  Craft-repair  Exec-managerial ...  Armed-Forces\n"
     ]
    },
    {
     "name": "stderr",
     "output_type": "stream",
     "text": [
      "Warning message in chisq.test(x, y):\n",
      "“Chi-squared approximation may be incorrect”"
     ]
    },
    {
     "name": "stdout",
     "output_type": "stream",
     "text": [
      "[1]  ?\n",
      "15 Levels:  Prof-specialty  Craft-repair  Exec-managerial ...  Armed-Forces\n"
     ]
    },
    {
     "name": "stderr",
     "output_type": "stream",
     "text": [
      "Warning message in chisq.test(x, y):\n",
      "“Chi-squared approximation may be incorrect”"
     ]
    },
    {
     "name": "stdout",
     "output_type": "stream",
     "text": [
      "[1] \"test  income  and  race given  hPerWeek\"\n",
      "[1] 3\n",
      "Levels: 3 4 2 5 1 0\n",
      "[1] 0.05041096\n",
      "[1] 4\n",
      "Levels: 3 4 2 5 1 0\n",
      "[1] 2\n",
      "Levels: 3 4 2 5 1 0\n"
     ]
    },
    {
     "name": "stderr",
     "output_type": "stream",
     "text": [
      "Warning message in chisq.test(x, y):\n",
      "“Chi-squared approximation may be incorrect”"
     ]
    },
    {
     "name": "stdout",
     "output_type": "stream",
     "text": [
      "[1] 5\n",
      "Levels: 3 4 2 5 1 0\n",
      "[1] \"test  income  and  workclass given  education.num\"\n",
      "[1] 9\n",
      "Levels: 9 10 13 14 11 7 12 6 4 15 5 8 16 3 2 1\n"
     ]
    },
    {
     "name": "stderr",
     "output_type": "stream",
     "text": [
      "Warning message in chisq.test(x, y):\n",
      "“Chi-squared approximation may be incorrect”"
     ]
    },
    {
     "name": "stdout",
     "output_type": "stream",
     "text": [
      "[1] 0.05140127\n",
      "[1] 10\n",
      "Levels: 9 10 13 14 11 7 12 6 4 15 5 8 16 3 2 1\n"
     ]
    },
    {
     "name": "stderr",
     "output_type": "stream",
     "text": [
      "Warning message in chisq.test(x, y):\n",
      "“Chi-squared approximation may be incorrect”"
     ]
    },
    {
     "name": "stdout",
     "output_type": "stream",
     "text": [
      "[1] 0.06623478\n",
      "[1] 13\n",
      "Levels: 9 10 13 14 11 7 12 6 4 15 5 8 16 3 2 1\n",
      "[1] 0.05036439\n",
      "[1] 14\n",
      "Levels: 9 10 13 14 11 7 12 6 4 15 5 8 16 3 2 1\n",
      "[1] 0.06255391\n",
      "[1] 11\n",
      "Levels: 9 10 13 14 11 7 12 6 4 15 5 8 16 3 2 1\n",
      "[1] \"test  income  and  workclass given  hPerWeek\"\n",
      "[1] 3\n",
      "Levels: 3 4 2 5 1 0\n"
     ]
    },
    {
     "name": "stderr",
     "output_type": "stream",
     "text": [
      "Warning message in chisq.test(x, y):\n",
      "“Chi-squared approximation may be incorrect”"
     ]
    },
    {
     "name": "stdout",
     "output_type": "stream",
     "text": [
      "[1] 0.05390449\n",
      "[1] 4\n",
      "Levels: 3 4 2 5 1 0\n"
     ]
    },
    {
     "name": "stderr",
     "output_type": "stream",
     "text": [
      "Warning message in chisq.test(x, y):\n",
      "“Chi-squared approximation may be incorrect”"
     ]
    },
    {
     "name": "stdout",
     "output_type": "stream",
     "text": [
      "[1] 0.05218923\n",
      "[1] 2\n",
      "Levels: 3 4 2 5 1 0\n"
     ]
    },
    {
     "name": "stderr",
     "output_type": "stream",
     "text": [
      "Warning message in chisq.test(x, y):\n",
      "“Chi-squared approximation may be incorrect”"
     ]
    },
    {
     "name": "stdout",
     "output_type": "stream",
     "text": [
      "[1] 0.07566971\n",
      "[1] 5\n",
      "Levels: 3 4 2 5 1 0\n"
     ]
    },
    {
     "name": "stderr",
     "output_type": "stream",
     "text": [
      "Warning message in chisq.test(x, y):\n",
      "“Chi-squared approximation may be incorrect”"
     ]
    },
    {
     "name": "stdout",
     "output_type": "stream",
     "text": [
      "[1] 0.06311098\n",
      "[1] \"test  marital.status  and  native.country\"\n"
     ]
    },
    {
     "name": "stderr",
     "output_type": "stream",
     "text": [
      "Warning message in chisq.test(data[, xyz[1]], data[, xyz[2]]):\n",
      "“Chi-squared approximation may be incorrect”"
     ]
    },
    {
     "name": "stdout",
     "output_type": "stream",
     "text": [
      "[1] \"test  marital.status  and  occupation\"\n"
     ]
    },
    {
     "name": "stderr",
     "output_type": "stream",
     "text": [
      "Warning message in chisq.test(data[, xyz[1]], data[, xyz[2]]):\n",
      "“Chi-squared approximation may be incorrect”"
     ]
    },
    {
     "name": "stdout",
     "output_type": "stream",
     "text": [
      "[1] \"test  marital.status  and  race\"\n"
     ]
    },
    {
     "name": "stderr",
     "output_type": "stream",
     "text": [
      "Warning message in chisq.test(data[, xyz[1]], data[, xyz[2]]):\n",
      "“Chi-squared approximation may be incorrect”"
     ]
    },
    {
     "name": "stdout",
     "output_type": "stream",
     "text": [
      "[1] \"test  marital.status  and  sex\"\n",
      "[1] 0.1884615\n",
      "[1] \"test  marital.status  and  workclass\"\n"
     ]
    },
    {
     "name": "stderr",
     "output_type": "stream",
     "text": [
      "Warning message in chisq.test(data[, xyz[1]], data[, xyz[2]]):\n",
      "“Chi-squared approximation may be incorrect”"
     ]
    },
    {
     "name": "stdout",
     "output_type": "stream",
     "text": [
      "[1] \"test  native.country  and  occupation given  education.num\"\n",
      "[1] 9\n",
      "Levels: 9 10 13 14 11 7 12 6 4 15 5 8 16 3 2 1\n"
     ]
    },
    {
     "name": "stderr",
     "output_type": "stream",
     "text": [
      "Warning message in chisq.test(x, y):\n",
      "“Chi-squared approximation may be incorrect”"
     ]
    },
    {
     "name": "stdout",
     "output_type": "stream",
     "text": [
      "[1] 10\n",
      "Levels: 9 10 13 14 11 7 12 6 4 15 5 8 16 3 2 1\n"
     ]
    },
    {
     "name": "stderr",
     "output_type": "stream",
     "text": [
      "Warning message in chisq.test(x, y):\n",
      "“Chi-squared approximation may be incorrect”"
     ]
    },
    {
     "name": "stdout",
     "output_type": "stream",
     "text": [
      "[1] 13\n",
      "Levels: 9 10 13 14 11 7 12 6 4 15 5 8 16 3 2 1\n"
     ]
    },
    {
     "name": "stderr",
     "output_type": "stream",
     "text": [
      "Warning message in chisq.test(x, y):\n",
      "“Chi-squared approximation may be incorrect”"
     ]
    },
    {
     "name": "stdout",
     "output_type": "stream",
     "text": [
      "[1] 14\n",
      "Levels: 9 10 13 14 11 7 12 6 4 15 5 8 16 3 2 1\n"
     ]
    },
    {
     "name": "stderr",
     "output_type": "stream",
     "text": [
      "Warning message in chisq.test(x, y):\n",
      "“Chi-squared approximation may be incorrect”"
     ]
    },
    {
     "name": "stdout",
     "output_type": "stream",
     "text": [
      "[1] 11\n",
      "Levels: 9 10 13 14 11 7 12 6 4 15 5 8 16 3 2 1\n"
     ]
    },
    {
     "name": "stderr",
     "output_type": "stream",
     "text": [
      "Warning message in chisq.test(x, y):\n",
      "“Chi-squared approximation may be incorrect”"
     ]
    },
    {
     "name": "stdout",
     "output_type": "stream",
     "text": [
      "[1] \"test  native.country  and  occupation given  race\"\n",
      "[1]  White\n",
      "Levels:  White  Black  Asian-Pac-Islander  Amer-Indian-Eskimo  Other\n"
     ]
    },
    {
     "name": "stderr",
     "output_type": "stream",
     "text": [
      "Warning message in chisq.test(x, y):\n",
      "“Chi-squared approximation may be incorrect”"
     ]
    },
    {
     "name": "stdout",
     "output_type": "stream",
     "text": [
      "[1] \"test  native.country  and  sex\"\n"
     ]
    },
    {
     "name": "stderr",
     "output_type": "stream",
     "text": [
      "Warning message in chisq.test(data[, xyz[1]], data[, xyz[2]]):\n",
      "“Chi-squared approximation may be incorrect”"
     ]
    },
    {
     "name": "stdout",
     "output_type": "stream",
     "text": [
      "[1] \"test  native.country  and  workclass given  education.num\"\n",
      "[1] 9\n",
      "Levels: 9 10 13 14 11 7 12 6 4 15 5 8 16 3 2 1\n"
     ]
    },
    {
     "name": "stderr",
     "output_type": "stream",
     "text": [
      "Warning message in chisq.test(x, y):\n",
      "“Chi-squared approximation may be incorrect”"
     ]
    },
    {
     "name": "stdout",
     "output_type": "stream",
     "text": [
      "[1] 10\n",
      "Levels: 9 10 13 14 11 7 12 6 4 15 5 8 16 3 2 1\n"
     ]
    },
    {
     "name": "stderr",
     "output_type": "stream",
     "text": [
      "Warning message in chisq.test(x, y):\n",
      "“Chi-squared approximation may be incorrect”"
     ]
    },
    {
     "name": "stdout",
     "output_type": "stream",
     "text": [
      "[1] 13\n",
      "Levels: 9 10 13 14 11 7 12 6 4 15 5 8 16 3 2 1\n"
     ]
    },
    {
     "name": "stderr",
     "output_type": "stream",
     "text": [
      "Warning message in chisq.test(x, y):\n",
      "“Chi-squared approximation may be incorrect”"
     ]
    },
    {
     "name": "stdout",
     "output_type": "stream",
     "text": [
      "[1] 14\n",
      "Levels: 9 10 13 14 11 7 12 6 4 15 5 8 16 3 2 1\n"
     ]
    },
    {
     "name": "stderr",
     "output_type": "stream",
     "text": [
      "Warning message in chisq.test(x, y):\n",
      "“Chi-squared approximation may be incorrect”"
     ]
    },
    {
     "name": "stdout",
     "output_type": "stream",
     "text": [
      "[1] 11\n",
      "Levels: 9 10 13 14 11 7 12 6 4 15 5 8 16 3 2 1\n"
     ]
    },
    {
     "name": "stderr",
     "output_type": "stream",
     "text": [
      "Warning message in chisq.test(x, y):\n",
      "“Chi-squared approximation may be incorrect”"
     ]
    },
    {
     "name": "stdout",
     "output_type": "stream",
     "text": [
      "[1] \"test  native.country  and  workclass given  race\"\n",
      "[1]  White\n",
      "Levels:  White  Black  Asian-Pac-Islander  Amer-Indian-Eskimo  Other\n"
     ]
    },
    {
     "name": "stderr",
     "output_type": "stream",
     "text": [
      "Warning message in chisq.test(x, y):\n",
      "“Chi-squared approximation may be incorrect”"
     ]
    },
    {
     "name": "stdout",
     "output_type": "stream",
     "text": [
      "[1] \"test  occupation  and  race given  education.num\"\n",
      "[1] 9\n",
      "Levels: 9 10 13 14 11 7 12 6 4 15 5 8 16 3 2 1\n"
     ]
    },
    {
     "name": "stderr",
     "output_type": "stream",
     "text": [
      "Warning message in chisq.test(x, y):\n",
      "“Chi-squared approximation may be incorrect”"
     ]
    },
    {
     "name": "stdout",
     "output_type": "stream",
     "text": [
      "[1] 10\n",
      "Levels: 9 10 13 14 11 7 12 6 4 15 5 8 16 3 2 1\n"
     ]
    },
    {
     "name": "stderr",
     "output_type": "stream",
     "text": [
      "Warning message in chisq.test(x, y):\n",
      "“Chi-squared approximation may be incorrect”"
     ]
    },
    {
     "name": "stdout",
     "output_type": "stream",
     "text": [
      "[1] 13\n",
      "Levels: 9 10 13 14 11 7 12 6 4 15 5 8 16 3 2 1\n"
     ]
    },
    {
     "name": "stderr",
     "output_type": "stream",
     "text": [
      "Warning message in chisq.test(x, y):\n",
      "“Chi-squared approximation may be incorrect”"
     ]
    },
    {
     "name": "stdout",
     "output_type": "stream",
     "text": [
      "[1] 14\n",
      "Levels: 9 10 13 14 11 7 12 6 4 15 5 8 16 3 2 1\n"
     ]
    },
    {
     "name": "stderr",
     "output_type": "stream",
     "text": [
      "Warning message in chisq.test(x, y):\n",
      "“Chi-squared approximation may be incorrect”"
     ]
    },
    {
     "name": "stdout",
     "output_type": "stream",
     "text": [
      "[1] 11\n",
      "Levels: 9 10 13 14 11 7 12 6 4 15 5 8 16 3 2 1\n"
     ]
    },
    {
     "name": "stderr",
     "output_type": "stream",
     "text": [
      "Warning message in chisq.test(x, y):\n",
      "“Chi-squared approximation may be incorrect”"
     ]
    },
    {
     "name": "stdout",
     "output_type": "stream",
     "text": [
      "[1] \"test  occupation  and  sex given  education.num\"\n",
      "[1] 9\n",
      "Levels: 9 10 13 14 11 7 12 6 4 15 5 8 16 3 2 1\n"
     ]
    },
    {
     "name": "stderr",
     "output_type": "stream",
     "text": [
      "Warning message in chisq.test(x, y):\n",
      "“Chi-squared approximation may be incorrect”"
     ]
    },
    {
     "name": "stdout",
     "output_type": "stream",
     "text": [
      "[1] 0.1338703\n",
      "[1] 10\n",
      "Levels: 9 10 13 14 11 7 12 6 4 15 5 8 16 3 2 1\n"
     ]
    },
    {
     "name": "stderr",
     "output_type": "stream",
     "text": [
      "Warning message in chisq.test(x, y):\n",
      "“Chi-squared approximation may be incorrect”"
     ]
    },
    {
     "name": "stdout",
     "output_type": "stream",
     "text": [
      "[1] 0.1191977\n",
      "[1] 13\n",
      "Levels: 9 10 13 14 11 7 12 6 4 15 5 8 16 3 2 1\n"
     ]
    },
    {
     "name": "stderr",
     "output_type": "stream",
     "text": [
      "Warning message in chisq.test(x, y):\n",
      "“Chi-squared approximation may be incorrect”"
     ]
    },
    {
     "name": "stdout",
     "output_type": "stream",
     "text": [
      "[1] 0.0718224\n",
      "[1] 14\n",
      "Levels: 9 10 13 14 11 7 12 6 4 15 5 8 16 3 2 1\n"
     ]
    },
    {
     "name": "stderr",
     "output_type": "stream",
     "text": [
      "Warning message in chisq.test(x, y):\n",
      "“Chi-squared approximation may be incorrect”"
     ]
    },
    {
     "name": "stdout",
     "output_type": "stream",
     "text": [
      "[1] 0.06234529\n",
      "[1] 11\n",
      "Levels: 9 10 13 14 11 7 12 6 4 15 5 8 16 3 2 1\n"
     ]
    },
    {
     "name": "stderr",
     "output_type": "stream",
     "text": [
      "Warning message in chisq.test(x, y):\n",
      "“Chi-squared approximation may be incorrect”"
     ]
    },
    {
     "name": "stdout",
     "output_type": "stream",
     "text": [
      "[1] 0.1379443\n",
      "[1] \"test  occupation  and  workclass given  education.num\"\n",
      "[1] 9\n",
      "Levels: 9 10 13 14 11 7 12 6 4 15 5 8 16 3 2 1\n"
     ]
    },
    {
     "name": "stderr",
     "output_type": "stream",
     "text": [
      "Warning message in chisq.test(x, y):\n",
      "“Chi-squared approximation may be incorrect”"
     ]
    },
    {
     "name": "stdout",
     "output_type": "stream",
     "text": [
      "[1] 0.1085465\n",
      "[1] 10\n",
      "Levels: 9 10 13 14 11 7 12 6 4 15 5 8 16 3 2 1\n"
     ]
    },
    {
     "name": "stderr",
     "output_type": "stream",
     "text": [
      "Warning message in chisq.test(x, y):\n",
      "“Chi-squared approximation may be incorrect”"
     ]
    },
    {
     "name": "stdout",
     "output_type": "stream",
     "text": [
      "[1] 0.1076629\n",
      "[1] 13\n",
      "Levels: 9 10 13 14 11 7 12 6 4 15 5 8 16 3 2 1\n"
     ]
    },
    {
     "name": "stderr",
     "output_type": "stream",
     "text": [
      "Warning message in chisq.test(x, y):\n",
      "“Chi-squared approximation may be incorrect”"
     ]
    },
    {
     "name": "stdout",
     "output_type": "stream",
     "text": [
      "[1] 0.1212252\n",
      "[1] 14\n",
      "Levels: 9 10 13 14 11 7 12 6 4 15 5 8 16 3 2 1\n"
     ]
    },
    {
     "name": "stderr",
     "output_type": "stream",
     "text": [
      "Warning message in chisq.test(x, y):\n",
      "“Chi-squared approximation may be incorrect”"
     ]
    },
    {
     "name": "stdout",
     "output_type": "stream",
     "text": [
      "[1] 0.1224701\n",
      "[1] 11\n",
      "Levels: 9 10 13 14 11 7 12 6 4 15 5 8 16 3 2 1\n"
     ]
    },
    {
     "name": "stderr",
     "output_type": "stream",
     "text": [
      "Warning message in chisq.test(x, y):\n",
      "“Chi-squared approximation may be incorrect”"
     ]
    },
    {
     "name": "stdout",
     "output_type": "stream",
     "text": [
      "[1] 0.1359985\n",
      "[1] \"test  race  and  sex\"\n",
      "[1] 0.05879805\n",
      "[1] \"test  race  and  workclass given  education.num\"\n",
      "[1] 9\n",
      "Levels: 9 10 13 14 11 7 12 6 4 15 5 8 16 3 2 1\n"
     ]
    },
    {
     "name": "stderr",
     "output_type": "stream",
     "text": [
      "Warning message in chisq.test(x, y):\n",
      "“Chi-squared approximation may be incorrect”"
     ]
    },
    {
     "name": "stdout",
     "output_type": "stream",
     "text": [
      "[1] 10\n",
      "Levels: 9 10 13 14 11 7 12 6 4 15 5 8 16 3 2 1\n"
     ]
    },
    {
     "name": "stderr",
     "output_type": "stream",
     "text": [
      "Warning message in chisq.test(x, y):\n",
      "“Chi-squared approximation may be incorrect”"
     ]
    },
    {
     "name": "stdout",
     "output_type": "stream",
     "text": [
      "[1] 13\n",
      "Levels: 9 10 13 14 11 7 12 6 4 15 5 8 16 3 2 1\n"
     ]
    },
    {
     "name": "stderr",
     "output_type": "stream",
     "text": [
      "Warning message in chisq.test(x, y):\n",
      "“Chi-squared approximation may be incorrect”"
     ]
    },
    {
     "name": "stdout",
     "output_type": "stream",
     "text": [
      "[1] 14\n",
      "Levels: 9 10 13 14 11 7 12 6 4 15 5 8 16 3 2 1\n"
     ]
    },
    {
     "name": "stderr",
     "output_type": "stream",
     "text": [
      "Warning message in chisq.test(x, y):\n",
      "“Chi-squared approximation may be incorrect”"
     ]
    },
    {
     "name": "stdout",
     "output_type": "stream",
     "text": [
      "[1] 11\n",
      "Levels: 9 10 13 14 11 7 12 6 4 15 5 8 16 3 2 1\n"
     ]
    },
    {
     "name": "stderr",
     "output_type": "stream",
     "text": [
      "Warning message in chisq.test(x, y):\n",
      "“Chi-squared approximation may be incorrect”"
     ]
    },
    {
     "name": "stdout",
     "output_type": "stream",
     "text": [
      "[1] \"test  sex  and  workclass given  education.num\"\n",
      "[1] 9\n",
      "Levels: 9 10 13 14 11 7 12 6 4 15 5 8 16 3 2 1\n"
     ]
    },
    {
     "name": "stderr",
     "output_type": "stream",
     "text": [
      "Warning message in chisq.test(x, y):\n",
      "“Chi-squared approximation may be incorrect”"
     ]
    },
    {
     "name": "stdout",
     "output_type": "stream",
     "text": [
      "[1] 0.05592542\n",
      "[1] 10\n",
      "Levels: 9 10 13 14 11 7 12 6 4 15 5 8 16 3 2 1\n"
     ]
    },
    {
     "name": "stderr",
     "output_type": "stream",
     "text": [
      "Warning message in chisq.test(x, y):\n",
      "“Chi-squared approximation may be incorrect”"
     ]
    },
    {
     "name": "stdout",
     "output_type": "stream",
     "text": [
      "[1] 0.05520585\n",
      "[1] 13\n",
      "Levels: 9 10 13 14 11 7 12 6 4 15 5 8 16 3 2 1\n",
      "[1] 0.06596759\n",
      "[1] 14\n",
      "Levels: 9 10 13 14 11 7 12 6 4 15 5 8 16 3 2 1\n",
      "[1] 0.08192894\n",
      "[1] 11\n",
      "Levels: 9 10 13 14 11 7 12 6 4 15 5 8 16 3 2 1\n",
      "[1] 0.06510009\n"
     ]
    }
   ],
   "source": [
    "num_test <- 0\n",
    "for(i in 1:length(independencies)){\n",
    "    indp <- independencies[i]\n",
    "    xyz <- unlist(indp)\n",
    "    if(length(xyz)==2){\n",
    "        print(paste('test ', xyz[1], ' and ', xyz[2]))\n",
    "        tst <- chisq.test(data[,xyz[1]], data[,xyz[2]])\n",
    "        res <- sqrt(max((tst$statistic - tst$parameter)/(( nrow(data) - 1)*tst$parameter),0))\n",
    "        if(res > 0.05){\n",
    "            print(res)\n",
    "        }\n",
    "        num_test <- num_test + 1\n",
    "    }\n",
    "    else{\n",
    "        print(paste('test ', xyz[1], ' and ', xyz[2], 'given ', xyz[3]))\n",
    "        strata <- as.data.frame(sort(table(data[,xyz[3]]),decreasing=T))\n",
    "        visited <- 0\n",
    "        idx <- 1\n",
    "        all <- sum(strata['Freq'])\n",
    "        while(visited<0.8*all){\n",
    "            print(strata[idx,1],max.levels=0)\n",
    "            subdata <- subset(data, data[,xyz[3]] == strata[idx,1])\n",
    "            x <- subdata[,xyz[1]]\n",
    "            y <- subdata[,xyz[2]]\n",
    "            if(length(unique(x)) < 2 || length(unique(y)) < 2){\n",
    "                break\n",
    "            }\n",
    "            tst <- chisq.test(x,y)\n",
    "            res <- sqrt(max((tst$statistic - tst$parameter)/(( nrow(subdata) - 1)*tst$parameter),0))\n",
    "            if(res > 0.05){\n",
    "                print(res)\n",
    "            }\n",
    "            \n",
    "            visited <- visited + strata[idx,2]\n",
    "            idx <- idx + 1\n",
    "            num_test <- num_test + 1\n",
    "        }\n",
    "    }\n",
    "}"
   ]
  },
  {
   "cell_type": "code",
   "execution_count": 60,
   "metadata": {
    "collapsed": false
   },
   "outputs": [],
   "source": [
    "net1 <- compile( grain( our_network, data, smooth=1 ) )"
   ]
  },
  {
   "cell_type": "code",
   "execution_count": 61,
   "metadata": {
    "collapsed": false
   },
   "outputs": [
    {
     "name": "stderr",
     "output_type": "stream",
     "text": [
      "ERROR while rich displaying an object: Error in dn[[2L]]: subscript out of bounds\n",
      "\n",
      "Traceback:\n",
      "1. FUN(X[[i]], ...)\n",
      "2. tryCatch(withCallingHandlers({\n",
      " .     rpr <- mime2repr[[mime]](obj)\n",
      " .     if (is.null(rpr)) \n",
      " .         return(NULL)\n",
      " .     prepare_content(is.raw(rpr), rpr)\n",
      " . }, error = error_handler), error = outer_handler)\n",
      "3. tryCatchList(expr, classes, parentenv, handlers)\n",
      "4. tryCatchOne(expr, names, parentenv, handlers[[1L]])\n",
      "5. doTryCatch(return(expr), name, parentenv, handler)\n",
      "6. withCallingHandlers({\n",
      " .     rpr <- mime2repr[[mime]](obj)\n",
      " .     if (is.null(rpr)) \n",
      " .         return(NULL)\n",
      " .     prepare_content(is.raw(rpr), rpr)\n",
      " . }, error = error_handler)\n",
      "7. mime2repr[[mime]](obj)\n",
      "8. repr_markdown.list(obj)\n",
      "9. repr_list_generic(obj, \"markdown\", \"%s. %s\\n\", \"$%s\\n:   %s\\n\", \n",
      " .     \"**$%s** = %s\", \"%s\\n\\n\", numeric_item = \"[[%s]]\\n:   %s\\n\", \n",
      " .     item_uses_numbers = TRUE, escape_fun = html_escape)\n",
      "10. lapply(vec, format2repr[[fmt]])\n",
      "11. FUN(X[[i]], ...)\n",
      "12. repr_markdown.numeric(X[[i]], ...)\n",
      "13. repr_vector_generic(html_escape_names(obj), \"%s. %s\\n\", \"%s\\n:   %s\", \n",
      "  .     \"**%s:** %s\", \"%s\\n\\n\", item_uses_numbers = TRUE, escape_fun = html_escape)\n",
      "14. html_escape_names(obj)\n",
      "15. .escape_names(obj, \"html\")\n",
      "16. colnames(obj)\n",
      "ERROR while rich displaying an object: Error in dn[[2L]]: subscript out of bounds\n",
      "\n",
      "Traceback:\n",
      "1. FUN(X[[i]], ...)\n",
      "2. tryCatch(withCallingHandlers({\n",
      " .     rpr <- mime2repr[[mime]](obj)\n",
      " .     if (is.null(rpr)) \n",
      " .         return(NULL)\n",
      " .     prepare_content(is.raw(rpr), rpr)\n",
      " . }, error = error_handler), error = outer_handler)\n",
      "3. tryCatchList(expr, classes, parentenv, handlers)\n",
      "4. tryCatchOne(expr, names, parentenv, handlers[[1L]])\n",
      "5. doTryCatch(return(expr), name, parentenv, handler)\n",
      "6. withCallingHandlers({\n",
      " .     rpr <- mime2repr[[mime]](obj)\n",
      " .     if (is.null(rpr)) \n",
      " .         return(NULL)\n",
      " .     prepare_content(is.raw(rpr), rpr)\n",
      " . }, error = error_handler)\n",
      "7. mime2repr[[mime]](obj)\n",
      "8. repr_latex.list(obj)\n",
      "9. repr_list_generic(obj, \"latex\", \"\\\\item %s\\n\", \"\\\\item[\\\\$%s] %s\\n\", \n",
      " .     \"\\\\textbf{\\\\$%s} = %s\", enum_wrap = \"\\\\begin{enumerate}\\n%s\\\\end{enumerate}\\n\", \n",
      " .     named_wrap = \"\\\\begin{description}\\n%s\\\\end{description}\\n\", \n",
      " .     numeric_item = \"\\\\item[{[[%s]]}] %s\\n\", escape_fun = latex_escape)\n",
      "10. lapply(vec, format2repr[[fmt]])\n",
      "11. FUN(X[[i]], ...)\n",
      "12. repr_latex.numeric(X[[i]], ...)\n",
      "13. repr_vector_generic(latex_escape_names(obj), \"\\\\item %s\\n\", \"\\\\item[%s] %s\\n\", \n",
      "  .     \"\\\\textbf{%s:} %s\", enum_wrap = \"\\\\begin{enumerate*}\\n%s\\\\end{enumerate*}\\n\", \n",
      "  .     named_wrap = \"\\\\begin{description*}\\n%s\\\\end{description*}\\n\", \n",
      "  .     only_named_item = \"\\\\textbf{%s:} %s\", escape_fun = latex_escape)\n",
      "14. latex_escape_names(obj)\n",
      "15. .escape_names(obj, \"latex\")\n",
      "16. colnames(obj)\n"
     ]
    },
    {
     "data": {
      "text/html": [
       "<strong>$income</strong> = <dl class=dl-horizontal>\n",
       "\t<dt> &lt;=50K</dt>\n",
       "\t\t<dd>0.742936358242881</dd>\n",
       "\t<dt> &gt;50K</dt>\n",
       "\t\t<dd>0.257063641757119</dd>\n",
       "</dl>\n"
      ],
      "text/plain": [
       "$income\n",
       "income\n",
       "    <=50K      >50K \n",
       "0.7429364 0.2570636 \n"
      ]
     },
     "metadata": {},
     "output_type": "display_data"
    }
   ],
   "source": [
    "querygrain(net1, nodes='income',type = \"marginal\", evidence = NULL, exclude = TRUE, normalize = TRUE, result = \"array\", details = 0)"
   ]
  },
  {
   "cell_type": "code",
   "execution_count": 62,
   "metadata": {
    "collapsed": false
   },
   "outputs": [
    {
     "data": {
      "text/plain": [
       "\n",
       " <=50K   >50K \n",
       " 24720   7841 "
      ]
     },
     "metadata": {},
     "output_type": "display_data"
    }
   ],
   "source": [
    "table(data['income'])"
   ]
  },
  {
   "cell_type": "code",
   "execution_count": 63,
   "metadata": {
    "collapsed": false
   },
   "outputs": [
    {
     "data": {
      "text/html": [
       "0.759190442553976"
      ],
      "text/latex": [
       "0.759190442553976"
      ],
      "text/markdown": [
       "0.759190442553976"
      ],
      "text/plain": [
       "[1] 0.7591904"
      ]
     },
     "metadata": {},
     "output_type": "display_data"
    }
   ],
   "source": [
    "24720 / (24720+7841)"
   ]
  },
  {
   "cell_type": "code",
   "execution_count": null,
   "metadata": {
    "collapsed": true
   },
   "outputs": [],
   "source": []
  }
 ],
 "metadata": {
  "kernelspec": {
   "display_name": "R",
   "language": "R",
   "name": "ir"
  },
  "language_info": {
   "codemirror_mode": "r",
   "file_extension": ".r",
   "mimetype": "text/x-r-source",
   "name": "R",
   "pygments_lexer": "r",
   "version": "3.4.2"
  }
 },
 "nbformat": 4,
 "nbformat_minor": 2
}
