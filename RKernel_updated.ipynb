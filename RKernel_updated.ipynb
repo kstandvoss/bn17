{
 "cells": [
  {
   "cell_type": "code",
   "execution_count": 4,
   "metadata": {
    "collapsed": false,
    "deletable": true,
    "editable": true
   },
   "outputs": [
    {
     "name": "stderr",
     "output_type": "stream",
     "text": [
      "Loading required package: gRbase\n",
      "Loading required package: graph\n",
      "Loading required package: BiocGenerics\n",
      "Loading required package: parallel\n",
      "\n",
      "Attaching package: 'BiocGenerics'\n",
      "\n",
      "The following objects are masked from 'package:parallel':\n",
      "\n",
      "    clusterApply, clusterApplyLB, clusterCall, clusterEvalQ,\n",
      "    clusterExport, clusterMap, parApply, parCapply, parLapply,\n",
      "    parLapplyLB, parRapply, parSapply, parSapplyLB\n",
      "\n",
      "The following objects are masked from 'package:stats':\n",
      "\n",
      "    IQR, mad, sd, var, xtabs\n",
      "\n",
      "The following objects are masked from 'package:base':\n",
      "\n",
      "    anyDuplicated, append, as.data.frame, cbind, colMeans, colnames,\n",
      "    colSums, do.call, duplicated, eval, evalq, Filter, Find, get, grep,\n",
      "    grepl, intersect, is.unsorted, lapply, lengths, Map, mapply, match,\n",
      "    mget, order, paste, pmax, pmax.int, pmin, pmin.int, Position, rank,\n",
      "    rbind, Reduce, rowMeans, rownames, rowSums, sapply, setdiff, sort,\n",
      "    table, tapply, union, unique, unsplit, which, which.max, which.min\n",
      "\n",
      "Loading required package: grid\n",
      "\n",
      "Attaching package: 'dagitty'\n",
      "\n",
      "The following object is masked from 'package:Rgraphviz':\n",
      "\n",
      "    graphLayout\n",
      "\n",
      "The following object is masked from 'package:graph':\n",
      "\n",
      "    edges\n",
      "\n",
      "The following objects are masked from 'package:gRbase':\n",
      "\n",
      "    ancestors, children, moralize, parents\n",
      "\n",
      "\n",
      "Attaching package: 'combinat'\n",
      "\n",
      "The following object is masked from 'package:utils':\n",
      "\n",
      "    combn\n",
      "\n"
     ]
    },
    {
     "data": {
      "text/html": [
       "<table>\n",
       "<thead><tr><th scope=col>age</th><th scope=col>workclass</th><th scope=col>education</th><th scope=col>marital.status</th><th scope=col>occupation</th><th scope=col>race</th><th scope=col>sex</th><th scope=col>hours.per.week</th><th scope=col>native.country</th><th scope=col>income</th></tr></thead>\n",
       "<tbody>\n",
       "\t<tr><td>2</td><td>5</td><td>2</td><td>2</td><td>0</td><td>0</td><td>0</td><td>3</td><td>0</td><td>0</td></tr>\n",
       "\t<tr><td>3</td><td>1</td><td>2</td><td>0</td><td>0</td><td>0</td><td>0</td><td>0</td><td>0</td><td>0</td></tr>\n",
       "\t<tr><td>2</td><td>0</td><td>2</td><td>1</td><td>1</td><td>0</td><td>0</td><td>3</td><td>0</td><td>0</td></tr>\n",
       "\t<tr><td>4</td><td>0</td><td>1</td><td>0</td><td>1</td><td>4</td><td>0</td><td>3</td><td>0</td><td>0</td></tr>\n",
       "\t<tr><td>1</td><td>0</td><td>2</td><td>0</td><td>3</td><td>4</td><td>1</td><td>3</td><td>1</td><td>0</td></tr>\n",
       "\t<tr><td>2</td><td>0</td><td>3</td><td>0</td><td>0</td><td>0</td><td>1</td><td>3</td><td>0</td><td>0</td></tr>\n",
       "</tbody>\n",
       "</table>\n"
      ],
      "text/latex": [
       "\\begin{tabular}{r|llllllllll}\n",
       " age & workclass & education & marital.status & occupation & race & sex & hours.per.week & native.country & income\\\\\n",
       "\\hline\n",
       "\t 2 & 5 & 2 & 2 & 0 & 0 & 0 & 3 & 0 & 0\\\\\n",
       "\t 3 & 1 & 2 & 0 & 0 & 0 & 0 & 0 & 0 & 0\\\\\n",
       "\t 2 & 0 & 2 & 1 & 1 & 0 & 0 & 3 & 0 & 0\\\\\n",
       "\t 4 & 0 & 1 & 0 & 1 & 4 & 0 & 3 & 0 & 0\\\\\n",
       "\t 1 & 0 & 2 & 0 & 3 & 4 & 1 & 3 & 1 & 0\\\\\n",
       "\t 2 & 0 & 3 & 0 & 0 & 0 & 1 & 3 & 0 & 0\\\\\n",
       "\\end{tabular}\n"
      ],
      "text/markdown": [
       "\n",
       "age | workclass | education | marital.status | occupation | race | sex | hours.per.week | native.country | income | \n",
       "|---|---|---|---|---|---|\n",
       "| 2 | 5 | 2 | 2 | 0 | 0 | 0 | 3 | 0 | 0 | \n",
       "| 3 | 1 | 2 | 0 | 0 | 0 | 0 | 0 | 0 | 0 | \n",
       "| 2 | 0 | 2 | 1 | 1 | 0 | 0 | 3 | 0 | 0 | \n",
       "| 4 | 0 | 1 | 0 | 1 | 4 | 0 | 3 | 0 | 0 | \n",
       "| 1 | 0 | 2 | 0 | 3 | 4 | 1 | 3 | 1 | 0 | \n",
       "| 2 | 0 | 3 | 0 | 0 | 0 | 1 | 3 | 0 | 0 | \n",
       "\n",
       "\n"
      ],
      "text/plain": [
       "  age workclass education marital.status occupation race sex hours.per.week\n",
       "1 2   5         2         2              0          0    0   3             \n",
       "2 3   1         2         0              0          0    0   0             \n",
       "3 2   0         2         1              1          0    0   3             \n",
       "4 4   0         1         0              1          4    0   3             \n",
       "5 1   0         2         0              3          4    1   3             \n",
       "6 2   0         3         0              0          0    1   3             \n",
       "  native.country income\n",
       "1 0              0     \n",
       "2 0              0     \n",
       "3 0              0     \n",
       "4 0              0     \n",
       "5 1              0     \n",
       "6 0              0     "
      ]
     },
     "metadata": {},
     "output_type": "display_data"
    },
    {
     "data": {
      "image/png": "[encoded data removed]",
      "text/plain": [
       "plot without title"
      ]
     },
     "metadata": {},
     "output_type": "display_data"
    }
   ],
   "source": [
    "library(\"gRain\")\n",
    "library(\"Rgraphviz\")\n",
    "library(\"dagitty\")\n",
    "library('combinat')\n",
    "\n",
    "setwd(\"C:/Users/Valentin/Uni/RU/Sem1/Bayesian Networks\")\n",
    "data <- read.table(header=T, sep=\",\", 'adult_cleaned.csv')\n",
    "\n",
    "\n",
    "our_network <- dag(~ race:native.country + education:race:sex + workclass:education + hours.per.week:workclass:occupation + occupation:education + marital.status:age + income:age:sex:occupation:hours.per.week)\n",
    "plot(our_network)\n",
    "head(data)\n",
    "\n",
    "data[data==\"?\"]<-NA\n",
    "data<-data[complete.cases(data),]"
   ]
  },
  {
   "cell_type": "code",
   "execution_count": 5,
   "metadata": {
    "collapsed": false,
    "deletable": true,
    "editable": true
   },
   "outputs": [],
   "source": [
    "g <- dagitty( \"dag{ native.country -> race -> education -> occupation -> hours.per.week -> income; occupation -> income; education -> workclass -> hours.per.week; sex -> education; sex -> income; age -> income; age -> marital.status}\" )"
   ]
  },
  {
   "cell_type": "code",
   "execution_count": 6,
   "metadata": {
    "collapsed": false,
    "deletable": true,
    "editable": true
   },
   "outputs": [],
   "source": [
    "independencies <- impliedConditionalIndependencies( g )"
   ]
  },
  {
   "cell_type": "code",
   "execution_count": 4,
   "metadata": {
    "collapsed": true
   },
   "outputs": [
    {
     "name": "stdout",
     "output_type": "stream",
     "text": [
      "age _||_ education\n",
      "age _||_ hours.per.week\n",
      "age _||_ native.country\n",
      "age _||_ occupation\n",
      "age _||_ race\n",
      "age _||_ sex\n",
      "age _||_ workclass\n",
      "education _||_ hours.per.week | occupation, workclass\n",
      "education _||_ income | hours.per.week, occupation, sex\n",
      "education _||_ income | occupation, sex, workclass\n",
      "education _||_ marital.status\n",
      "education _||_ native.country | race\n",
      "hours.per.week _||_ marital.status\n",
      "hours.per.week _||_ native.country | race\n",
      "hours.per.week _||_ native.country | education\n",
      "hours.per.week _||_ native.country | occupation, workclass\n",
      "hours.per.week _||_ race | education\n",
      "hours.per.week _||_ race | occupation, workclass\n",
      "hours.per.week _||_ sex | education\n",
      "hours.per.week _||_ sex | occupation, workclass\n",
      "income _||_ marital.status | age\n",
      "income _||_ native.country | race\n",
      "income _||_ native.country | education, sex\n",
      "income _||_ native.country | occupation, sex, workclass\n",
      "income _||_ native.country | hours.per.week, occupation, sex\n",
      "income _||_ race | education, sex\n",
      "income _||_ race | occupation, sex, workclass\n",
      "income _||_ race | hours.per.week, occupation, sex\n",
      "income _||_ workclass | education, hours.per.week, occupation\n",
      "income _||_ workclass | hours.per.week, occupation, sex\n",
      "marital.status _||_ native.country\n",
      "marital.status _||_ occupation\n",
      "marital.status _||_ race\n",
      "marital.status _||_ sex\n",
      "marital.status _||_ workclass\n",
      "native.country _||_ occupation | education\n",
      "native.country _||_ occupation | race\n",
      "native.country _||_ sex\n",
      "native.country _||_ workclass | education\n",
      "native.country _||_ workclass | race\n",
      "occupation _||_ race | education\n",
      "occupation _||_ sex | education\n",
      "occupation _||_ workclass | education\n",
      "race _||_ sex\n",
      "race _||_ workclass | education\n",
      "sex _||_ workclass | education\n"
     ]
    }
   ],
   "source": [
    "print(independencies)"
   ]
  },
  {
   "cell_type": "code",
   "execution_count": 20,
   "metadata": {
    "collapsed": false
   },
   "outputs": [
    {
     "data": {
      "text/html": [
       "<table>\n",
       "<thead><tr><th scope=col>Var1</th><th scope=col>Freq</th></tr></thead>\n",
       "<tbody>\n",
       "\t<tr><td>0    </td><td>25933</td></tr>\n",
       "\t<tr><td>4    </td><td> 2817</td></tr>\n",
       "\t<tr><td>1    </td><td>  895</td></tr>\n",
       "\t<tr><td>2    </td><td>  286</td></tr>\n",
       "\t<tr><td>3    </td><td>  231</td></tr>\n",
       "</tbody>\n",
       "</table>\n"
      ],
      "text/latex": [
       "\\begin{tabular}{r|ll}\n",
       " Var1 & Freq\\\\\n",
       "\\hline\n",
       "\t 0     & 25933\\\\\n",
       "\t 4     &  2817\\\\\n",
       "\t 1     &   895\\\\\n",
       "\t 2     &   286\\\\\n",
       "\t 3     &   231\\\\\n",
       "\\end{tabular}\n"
      ],
      "text/markdown": [
       "\n",
       "Var1 | Freq | \n",
       "|---|---|---|---|---|\n",
       "| 0     | 25933 | \n",
       "| 4     |  2817 | \n",
       "| 1     |   895 | \n",
       "| 2     |   286 | \n",
       "| 3     |   231 | \n",
       "\n",
       "\n"
      ],
      "text/plain": [
       "  Var1 Freq \n",
       "1 0    25933\n",
       "2 4     2817\n",
       "3 1      895\n",
       "4 2      286\n",
       "5 3      231"
      ]
     },
     "metadata": {},
     "output_type": "display_data"
    },
    {
     "data": {
      "text/html": [
       "0"
      ],
      "text/latex": [
       "0"
      ],
      "text/markdown": [
       "0"
      ],
      "text/plain": [
       "[1] 0"
      ]
     },
     "metadata": {},
     "output_type": "display_data"
    }
   ],
   "source": [
    "#typeof(strata)\n",
    "#strata[1]\n",
    "#dim(table(data[,xyz[-(1:2)]]))[1]\n",
    "#order(table(data[,xyz[-(1:2)]]),decreasing=T)\n",
    "#2%/%6\n",
    "#2%%6\n",
    "for_count_strata <- as.data.frame(sort(table(data[,xyz[-(1:2)]]),decreasing=T))\n",
    "for_count_strata\n",
    "visited\n",
    "#sum(for_count_strata)\n",
    "#all"
   ]
  },
  {
   "cell_type": "code",
   "execution_count": 79,
   "metadata": {
    "collapsed": false
   },
   "outputs": [
    {
     "data": {
      "text/plain": [
       "NULL"
      ]
     },
     "metadata": {},
     "output_type": "display_data"
    }
   ],
   "source": [
    "as.data.frame(sort(table(data[,xyz[-(1:2)]]),decreasing=T,index.return=T))$ix"
   ]
  },
  {
   "cell_type": "code",
   "execution_count": 18,
   "metadata": {
    "collapsed": false,
    "deletable": true,
    "editable": true,
    "scrolled": true
   },
   "outputs": [
    {
     "name": "stdout",
     "output_type": "stream",
     "text": [
      "        1.X         1.Y \n",
      "      \"age\" \"education\" \n",
      "[1] \"test:  age  and  education\"\n"
     ]
    },
    {
     "name": "stderr",
     "output_type": "stream",
     "text": [
      "Warning message in chisq.test(data[, xyz[1]], data[, xyz[2]]):\n",
      "\"Chi-squared approximation may be incorrect\""
     ]
    },
    {
     "name": "stdout",
     "output_type": "stream",
     "text": [
      "             2.X              2.Y \n",
      "           \"age\" \"hours.per.week\" \n",
      "[1] \"test:  age  and  hours.per.week\"\n"
     ]
    },
    {
     "name": "stderr",
     "output_type": "stream",
     "text": [
      "Warning message in chisq.test(data[, xyz[1]], data[, xyz[2]]):\n",
      "\"Chi-squared approximation may be incorrect\""
     ]
    },
    {
     "name": "stdout",
     "output_type": "stream",
     "text": [
      "[1] 0.07403111\n",
      "             3.X              3.Y \n",
      "           \"age\" \"native.country\" \n",
      "[1] \"test:  age  and  native.country\"\n",
      "         4.X          4.Y \n",
      "       \"age\" \"occupation\" \n",
      "[1] \"test:  age  and  occupation\"\n"
     ]
    },
    {
     "name": "stderr",
     "output_type": "stream",
     "text": [
      "Warning message in chisq.test(data[, xyz[1]], data[, xyz[2]]):\n",
      "\"Chi-squared approximation may be incorrect\""
     ]
    },
    {
     "name": "stdout",
     "output_type": "stream",
     "text": [
      "   5.X    5.Y \n",
      " \"age\" \"race\" \n",
      "[1] \"test:  age  and  race\"\n"
     ]
    },
    {
     "name": "stderr",
     "output_type": "stream",
     "text": [
      "Warning message in chisq.test(data[, xyz[1]], data[, xyz[2]]):\n",
      "\"Chi-squared approximation may be incorrect\""
     ]
    },
    {
     "name": "stdout",
     "output_type": "stream",
     "text": [
      "  6.X   6.Y \n",
      "\"age\" \"sex\" \n",
      "[1] \"test:  age  and  sex\"\n",
      "        7.X         7.Y \n",
      "      \"age\" \"workclass\" \n",
      "[1] \"test:  age  and  workclass\"\n"
     ]
    },
    {
     "name": "stderr",
     "output_type": "stream",
     "text": [
      "Warning message in chisq.test(data[, xyz[1]], data[, xyz[2]]):\n",
      "\"Chi-squared approximation may be incorrect\""
     ]
    },
    {
     "name": "stdout",
     "output_type": "stream",
     "text": [
      "             8.X              8.Y             8.Z1             8.Z2 \n",
      "     \"education\" \"hours.per.week\"     \"occupation\"      \"workclass\" \n",
      "[1] \"test  education  and  hours.per.week given  occupation\"\n",
      "[2] \"test  education  and  hours.per.week given  workclass\" \n",
      "[1] \"stratum:  2\"\n",
      "[1] 0\n",
      "             9.X              9.Y             9.Z1             9.Z2 \n",
      "     \"education\"         \"income\" \"hours.per.week\"     \"occupation\" \n",
      "            9.Z3 \n",
      "           \"sex\" \n",
      "[1] \"test  education  and  income given  hours.per.week\"\n",
      "[2] \"test  education  and  income given  occupation\"    \n",
      "[3] \"test  education  and  income given  sex\"           \n",
      "[1] \"stratum:  10\"\n",
      "[1] 0\n",
      "[1] \"stratum:  10\"\n",
      "[1] 0\n",
      "[1] \"stratum:  10\"\n",
      "[1] 0\n",
      "[1] \"stratum:  10\"\n",
      "[1] 0\n",
      "[1] \"stratum:  10\"\n",
      "[1] 0\n",
      "        10.X         10.Y        10.Z1        10.Z2        10.Z3 \n",
      " \"education\"     \"income\" \"occupation\"        \"sex\"  \"workclass\" \n",
      "[1] \"test  education  and  income given  occupation\"\n",
      "[2] \"test  education  and  income given  sex\"       \n",
      "[3] \"test  education  and  income given  workclass\" \n",
      "[1] \"stratum:  2\"\n",
      "[1] 0\n",
      "[1] \"stratum:  2\"\n",
      "[1] 0\n",
      "[1] \"stratum:  2\"\n",
      "[1] 0\n",
      "[1] \"stratum:  2\"\n",
      "[1] 0\n",
      "[1] \"stratum:  2\"\n",
      "[1] 0\n",
      "            11.X             11.Y \n",
      "     \"education\" \"marital.status\" \n",
      "[1] \"test:  education  and  marital.status\"\n"
     ]
    },
    {
     "name": "stderr",
     "output_type": "stream",
     "text": [
      "Warning message in chisq.test(data[, xyz[1]], data[, xyz[2]]):\n",
      "\"Chi-squared approximation may be incorrect\""
     ]
    },
    {
     "name": "stdout",
     "output_type": "stream",
     "text": [
      "            12.X             12.Y             12.Z \n",
      "     \"education\" \"native.country\"           \"race\" \n",
      "[1] \"test  education  and  native.country given  race\"\n"
     ]
    },
    {
     "ename": "ERROR",
     "evalue": "Error in FUN(X[[i]], ...): only defined on a data frame with all numeric variables\n",
     "output_type": "error",
     "traceback": [
      "Error in FUN(X[[i]], ...): only defined on a data frame with all numeric variables\nTraceback:\n",
      "1. Summary.data.frame(structure(list(Var1 = structure(1:5, .Label = c(\"0\", \n . \"4\", \"1\", \"2\", \"3\"), class = \"factor\"), Freq = c(25933L, 2817L, \n . 895L, 286L, 231L)), .Names = c(\"Var1\", \"Freq\"), row.names = c(NA, \n . -5L), class = \"data.frame\"), na.rm = FALSE)",
      "2. lapply(args, function(x) {\n .     x <- as.matrix(x)\n .     if (!is.numeric(x) && !is.complex(x)) \n .         stop(\"only defined on a data frame with all numeric variables\")\n .     x\n . })",
      "3. FUN(X[[i]], ...)",
      "4. stop(\"only defined on a data frame with all numeric variables\")"
     ]
    }
   ],
   "source": [
    "num_test <- 0\n",
    "for(i in 1:length(independencies)){\n",
    "    indp <- independencies[i]\n",
    "    xyz <- unlist(indp)\n",
    "    print(xyz)\n",
    "    if(length(xyz)>3){\n",
    "\n",
    "    }\n",
    "    if(length(xyz)==2){\n",
    "        print(paste('test: ', xyz[1], ' and ', xyz[2]))\n",
    "        tst <- chisq.test(data[,xyz[1]], data[,xyz[2]])\n",
    "        res <- sqrt(max((tst$statistic - tst$parameter)/(( nrow(data) - 1)*tst$parameter),0))\n",
    "        if(res > 0.05){\n",
    "            print(res)\n",
    "        }\n",
    "        num_test <- num_test + 1\n",
    "    }\n",
    "    else{\n",
    "        print(paste('test ', xyz[1], ' and ', xyz[2], 'given ', xyz[-(1:2)]))\n",
    "        strata <- order(table(data[,xyz[-(1:2)]]),decreasing=T)\n",
    "        dimensions = dim(strata)\n",
    "        #strata <- list()\n",
    "        #for(i in 1:length(xyz[-(1:2)])){\n",
    "        #        strata[i] <- as.data.frame(sort(table(data[,xyz[2+i]]),decreasing=T))\n",
    "        #}\n",
    "        for_count_strata <- as.data.frame(sort(table(data[,xyz[-(1:2)]]),decreasing=T))\n",
    "        #permlist <- expand.grid(strata)\n",
    "        visited <- 0\n",
    "        idx <- 1\n",
    "        all <- sum(for_count_strata)\n",
    "        #for (j in 1:dim(permlist[1]){\n",
    "            for (j in 1:5){\n",
    "            #while(visited<0.8*all){\n",
    "                print(paste('stratum: ',strata[idx]),max.levels=0)\n",
    "                print(visited)\n",
    "                current_index = strata[idx]\n",
    "            \n",
    "                if (length(xyz)==4){\n",
    "                    subdata <- subset(data, data[,xyz[3]] == (current_index%/%dimensions[1]) & data[,xyz[4]] == (current_index%%dimensions[1]))\n",
    "                    x <- subdata[,xyz[1]]\n",
    "                    y <- subdata[,xyz[2]]\n",
    "                    if(length(unique(x)) < 2 || length(unique(y)) < 2){\n",
    "                        break\n",
    "                    }\n",
    "                    tst <- chisq.test(x,y)\n",
    "                    res <- sqrt(max((tst$statistic - tst$parameter)/(( nrow(subdata) - 1)*tst$parameter),0))\n",
    "                    if(res > 0.05){\n",
    "                        print(res)\n",
    "                    }\n",
    "                \n",
    "                    visited <- visited + for_count_strata[idx,1]\n",
    "                    idx <- idx + 1\n",
    "                    num_test <- num_test + 1\n",
    "                }              \n",
    "            }\n",
    "            #subdata <- subset(data, data[,xyz[3]] == strata[idx,1])\n",
    "            #x <- subdata[,xyz[1]]\n",
    "            #y <- subdata[,xyz[2]]\n",
    "            #if(length(unique(x)) < 2 || length(unique(y)) < 2){\n",
    "#                break\n",
    "#            }\n",
    "#            tst <- chisq.test(x,y)\n",
    "#            res <- sqrt(max((tst$statistic - tst$parameter)/(( nrow(subdata) - 1)*tst$parameter),0))\n",
    "#            if(res > 0.05){\n",
    "#                print(res)\n",
    "#            }\n",
    "#            \n",
    "#            visited <- visited + strata[idx,2]\n",
    "#            idx <- idx + 1\n",
    "#            num_test <- num_test + 1\n",
    "        #}\n",
    "    }\n",
    "}"
   ]
  },
  {
   "cell_type": "code",
   "execution_count": 1,
   "metadata": {
    "collapsed": false
   },
   "outputs": [
    {
     "ename": "ERROR",
     "evalue": "Error in eval(expr, envir, enclos): Objekt 'num_test' nicht gefunden\n",
     "output_type": "error",
     "traceback": [
      "Error in eval(expr, envir, enclos): Objekt 'num_test' nicht gefunden\nTraceback:\n"
     ]
    }
   ],
   "source": [
    "num_test"
   ]
  },
  {
   "cell_type": "code",
   "execution_count": null,
   "metadata": {
    "collapsed": false,
    "deletable": true,
    "editable": true
   },
   "outputs": [],
   "source": [
    "net1 <- compile( grain( our_network, data, smooth=1 ) )"
   ]
  },
  {
   "cell_type": "code",
   "execution_count": null,
   "metadata": {
    "collapsed": true
   },
   "outputs": [],
   "source": [
    "pp <- extractCPT( data, our_network, smooth=1)"
   ]
  },
  {
   "cell_type": "code",
   "execution_count": null,
   "metadata": {
    "collapsed": false,
    "deletable": true,
    "editable": true
   },
   "outputs": [],
   "source": [
    "querygrain(net1, nodes='income',type = \"marginal\", evidence = NULL, exclude = TRUE, normalize = TRUE, result = \"array\", details = 0)"
   ]
  },
  {
   "cell_type": "code",
   "execution_count": null,
   "metadata": {
    "collapsed": false,
    "deletable": true,
    "editable": true
   },
   "outputs": [],
   "source": [
    "table(data['income'])"
   ]
  },
  {
   "cell_type": "code",
   "execution_count": null,
   "metadata": {
    "collapsed": false,
    "deletable": true,
    "editable": true
   },
   "outputs": [],
   "source": [
    "24720 / (24720+7841)"
   ]
  },
  {
   "cell_type": "code",
   "execution_count": null,
   "metadata": {
    "collapsed": true,
    "deletable": true,
    "editable": true
   },
   "outputs": [],
   "source": []
  }
 ],
 "metadata": {
  "kernelspec": {
   "display_name": "R",
   "language": "R",
   "name": "ir"
  },
  "language_info": {
   "codemirror_mode": "r",
   "file_extension": ".r",
   "mimetype": "text/x-r-source",
   "name": "R",
   "pygments_lexer": "r",
   "version": "3.4.2"
  }
 },
 "nbformat": 4,
 "nbformat_minor": 2
}
